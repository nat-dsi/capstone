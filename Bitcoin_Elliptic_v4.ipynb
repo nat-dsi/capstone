{
  "nbformat": 4,
  "nbformat_minor": 0,
  "metadata": {
    "colab": {
      "name": "Bitcoin-Elliptic-v4.ipynb",
      "provenance": [],
      "collapsed_sections": [],
      "authorship_tag": "ABX9TyNn+MWUyaRqs7Rrbhqyyj/8",
      "include_colab_link": true
    },
    "kernelspec": {
      "display_name": "Python 3",
      "name": "python3"
    },
    "accelerator": "TPU"
  },
  "cells": [
    {
      "cell_type": "markdown",
      "metadata": {
        "id": "view-in-github",
        "colab_type": "text"
      },
      "source": [
        "<a href=\"https://colab.research.google.com/github/nat-dsi/capstone/blob/main/Bitcoin_Elliptic_v4.ipynb\" target=\"_parent\"><img src=\"https://colab.research.google.com/assets/colab-badge.svg\" alt=\"Open In Colab\"/></a>"
      ]
    },
    {
      "cell_type": "markdown",
      "metadata": {
        "id": "HnEv7yClUpse"
      },
      "source": [
        "<h1> Anomaly Detection in Bitcoin Transactions </h1>"
      ]
    },
    {
      "cell_type": "markdown",
      "metadata": {
        "id": "dOeUkfG3XoCx"
      },
      "source": [
        "<p float=\"left\">\n",
        "  <img src=\"https://www.moneytaskforce.com/wp-content/uploads/2019/07/95995559_s.jpg\" width=\"500\" height=\"400\" />\n",
        "  <img src=\"https://upload.wikimedia.org/wikipedia/commons/4/4f/%EA%B0%90%EC%97%BC%EC%82%AC%EC%A7%84.png\" width=\"500\" height=\"400\"/> \n",
        "</p>"
      ]
    },
    {
      "cell_type": "markdown",
      "metadata": {
        "id": "H0gZpDIZF3UB"
      },
      "source": [
        "<H3> Objective </H3>"
      ]
    },
    {
      "cell_type": "markdown",
      "metadata": {
        "id": "WhlnLh5QGAYp"
      },
      "source": [
        "Objective of this project is to detect anomalies in Bitcoin transactions. Question that we're trying to answer is - Given a set of transactions, can we predict transactions that are not confirming to standard transaction pattern in Bitcoin network? \n",
        "\n",
        "Before that, some background, Bitcoin is the largest cryto-currency network. Its an de-centralized network for money exchange and there is no central authority to monitor the whole network for any illegal activities. There is no indetification or KYC type of process in place to control who can enter and trasact on Bitcoin network. This is a biggest advantage of the Bitcoin network but at the same time, the same structure allows illegal entities to operate on this network freely. \n",
        "\n",
        "There are many illegal activities that for which Bitcoin network is being used - like Anti-Money Laudering, Ransomware Heist etc.,\n",
        "\n",
        "There are various techniques published by research papers to address this problem. This project uses techniques published by one of such [research paper](https://arxiv.org/abs/1908.02591) to detect anomalies and there by classify illicit activites from licit ones."
      ]
    },
    {
      "cell_type": "code",
      "metadata": {
        "id": "fMoHy6Z6pj1P"
      },
      "source": [
        "from google.colab import files\n",
        "files.upload()"
      ],
      "execution_count": null,
      "outputs": []
    },
    {
      "cell_type": "code",
      "metadata": {
        "colab": {
          "base_uri": "https://localhost:8080/"
        },
        "id": "wJtQDcdSpGIP",
        "outputId": "496531ce-5101-4f92-f9a4-faee1fba4019"
      },
      "source": [
        "! pip install -q kaggleA\n",
        "! pip install -q kaggle-cli\n",
        "! mkdir -p ~/.kaggle\n",
        "! mv kaggle.json ~/.kaggle\n",
        "! chmod 600 ~/.kaggle/kaggle.json\n",
        "! kaggle datasets download -d ellipticco/elliptic-data-set -p elliptic"
      ],
      "execution_count": 2,
      "outputs": [
        {
          "output_type": "stream",
          "text": [
            "\u001b[31mERROR: Could not find a version that satisfies the requirement kaggleA (from versions: none)\u001b[0m\n",
            "\u001b[31mERROR: No matching distribution found for kaggleA\u001b[0m\n",
            "\u001b[K     |████████████████████████████████| 81kB 3.5MB/s \n",
            "\u001b[K     |████████████████████████████████| 4.2MB 6.0MB/s \n",
            "\u001b[K     |████████████████████████████████| 112kB 43.5MB/s \n",
            "\u001b[K     |████████████████████████████████| 143kB 43.4MB/s \n",
            "\u001b[K     |████████████████████████████████| 51kB 4.1MB/s \n",
            "\u001b[?25h  Building wheel for kaggle-cli (setup.py) ... \u001b[?25l\u001b[?25hdone\n",
            "  Building wheel for lxml (setup.py) ... \u001b[?25lerror\n",
            "\u001b[31m  ERROR: Failed building wheel for lxml\u001b[0m\n",
            "\u001b[?25h  Building wheel for PrettyTable (setup.py) ... \u001b[?25l\u001b[?25hdone\n",
            "  Building wheel for pyperclip (setup.py) ... \u001b[?25l\u001b[?25hdone\n",
            "    Running setup.py install for lxml ... \u001b[?25l\u001b[?25herror\n",
            "\u001b[31mERROR: Command errored out with exit status 1: /usr/bin/python3 -u -c 'import sys, setuptools, tokenize; sys.argv[0] = '\"'\"'/tmp/pip-install-rsm4pkkj/lxml/setup.py'\"'\"'; __file__='\"'\"'/tmp/pip-install-rsm4pkkj/lxml/setup.py'\"'\"';f=getattr(tokenize, '\"'\"'open'\"'\"', open)(__file__);code=f.read().replace('\"'\"'\\r\\n'\"'\"', '\"'\"'\\n'\"'\"');f.close();exec(compile(code, __file__, '\"'\"'exec'\"'\"'))' install --record /tmp/pip-record-8qqkovfb/install-record.txt --single-version-externally-managed --compile Check the logs for full command output.\u001b[0m\n",
            "Downloading elliptic-data-set.zip to elliptic\n",
            " 98% 143M/146M [00:01<00:00, 74.2MB/s]\n",
            "100% 146M/146M [00:01<00:00, 84.0MB/s]\n"
          ],
          "name": "stdout"
        }
      ]
    },
    {
      "cell_type": "code",
      "metadata": {
        "colab": {
          "base_uri": "https://localhost:8080/"
        },
        "id": "lzzNJNXAVAJL",
        "outputId": "81858cf6-c80a-481a-c886-47982e077a85"
      },
      "source": [
        "! ls"
      ],
      "execution_count": 3,
      "outputs": [
        {
          "output_type": "stream",
          "text": [
            "elliptic  sample_data\n"
          ],
          "name": "stdout"
        }
      ]
    },
    {
      "cell_type": "code",
      "metadata": {
        "colab": {
          "base_uri": "https://localhost:8080/"
        },
        "id": "Hin2KxrSWHCY",
        "outputId": "590fd64c-ed9f-4f6b-e5a3-a6a6cb9519e6"
      },
      "source": [
        "! ls elliptic/"
      ],
      "execution_count": 4,
      "outputs": [
        {
          "output_type": "stream",
          "text": [
            "elliptic-data-set.zip\n"
          ],
          "name": "stdout"
        }
      ]
    },
    {
      "cell_type": "code",
      "metadata": {
        "colab": {
          "base_uri": "https://localhost:8080/"
        },
        "id": "X-9216cFsx55",
        "outputId": "de0e4868-90cf-4ce4-de23-ad9c966d7771"
      },
      "source": [
        "! unzip elliptic/elliptic-data-set.zip"
      ],
      "execution_count": 5,
      "outputs": [
        {
          "output_type": "stream",
          "text": [
            "Archive:  elliptic/elliptic-data-set.zip\n",
            "  inflating: elliptic_bitcoin_dataset/elliptic_txs_classes.csv  \n",
            "  inflating: elliptic_bitcoin_dataset/elliptic_txs_edgelist.csv  \n",
            "  inflating: elliptic_bitcoin_dataset/elliptic_txs_features.csv  \n"
          ],
          "name": "stdout"
        }
      ]
    },
    {
      "cell_type": "code",
      "metadata": {
        "colab": {
          "base_uri": "https://localhost:8080/"
        },
        "id": "6QGXT0KatCYh",
        "outputId": "5fb9fb59-0e0d-4baa-c700-e050d95c2a35"
      },
      "source": [
        "! ls elliptic_bitcoin_dataset/"
      ],
      "execution_count": 6,
      "outputs": [
        {
          "output_type": "stream",
          "text": [
            "elliptic_txs_classes.csv  elliptic_txs_edgelist.csv  elliptic_txs_features.csv\n"
          ],
          "name": "stdout"
        }
      ]
    },
    {
      "cell_type": "code",
      "metadata": {
        "id": "SQQcqk2ZUpsh"
      },
      "source": [
        "#importing dependencies\n",
        "import pandas as pd\n",
        "import numpy as np\n",
        "import matplotlib.pyplot as plt\n",
        "\n",
        "from sklearn.model_selection import train_test_split\n",
        "from sklearn.preprocessing import StandardScaler\n",
        "from sklearn.linear_model import LogisticRegression\n",
        "from sklearn.utils import class_weight\n",
        "from sklearn.ensemble import RandomForestClassifier\n",
        "\n",
        "from tensorflow.keras.models import Model\n",
        "from tensorflow.keras.layers import Input, Dropout, Dense\n",
        "from tensorflow.keras import Sequential\n",
        "from tensorflow.keras.callbacks import EarlyStopping\n",
        "import tensorflow as tf\n",
        "from tensorflow.keras.regularizers import l2\n",
        "\n",
        "from sklearn.metrics import confusion_matrix, ConfusionMatrixDisplay, classification_report\n",
        "from sklearn.metrics import classification_report\n"
      ],
      "execution_count": 7,
      "outputs": []
    },
    {
      "cell_type": "markdown",
      "metadata": {
        "id": "E5FeRQMxUpsi"
      },
      "source": [
        "<H2> Dataset and Data dictionary <H2>\n",
        "\n"
      ]
    },
    {
      "cell_type": "markdown",
      "metadata": {
        "id": "is0VXsBxP0Pa"
      },
      "source": [
        "We will be using [Elliptic Dataset](https://medium.com/elliptic/the-elliptic-data-set-opening-up-machine-learning-on-the-blockchain-e0a343d99a14) for this project. Its available on [Kaggle](https://www.kaggle.com/ellipticco/elliptic-data-set). This dataset is released to public by Elliptic so researchers can use real-world data for use cases like AML, Ransomware Heist and other illegal activities.\n",
        "\n",
        "This dataset has 200K transactions that are partially labeled as 'licit' or 'illicit'. Around 4K transactions are marked 'illicit' and about 42K as 'illicit'. Rest of them are not labeled and it could be used for semi-supervised learning.\n",
        "\n",
        "The key thing about this dataset compared to few other bitcoin datasets is that, this dataset has graph information of each of these transactions and so it can be used to determine 'illicit' transaction vs 'licit' ones. \n",
        "\n",
        "Apart from graph information, this dataset also has 166 features for each node (each transaction is represented as a node). It has a column to specify the timestep that each node/transacion belong to. There are 49 timesteps and a timestep is a period of about 2 weeks. "
      ]
    },
    {
      "cell_type": "markdown",
      "metadata": {
        "id": "wFlmI2eLPn8V"
      },
      "source": [
        "![image.png](data:image/png;base64,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)"
      ]
    },
    {
      "cell_type": "markdown",
      "metadata": {
        "id": "YjQmpkW8UBJz"
      },
      "source": [
        "Out of 166 features, first 94 of them contains *local* information about the node itself like number of inputs/outputs, transaction fee, output volume and aggregated features like average BTC received (or spent) by inputs/outputs and average number of incoming (or outgoing) transactions with inputs/outputs.\n",
        "\n",
        "The remaining 72 features are for *nonlocal (graph)* information about neighboring nodes (limited to one-hop forward/backward from the center node) and this information is at max, min, std deviation and correlation coeffients of the neighbor transactions w.r.t the local data - ave BTC, number of incoming/outgoing, transacton fee etc.,"
      ]
    },
    {
      "cell_type": "code",
      "metadata": {
        "id": "bHK2bYmR6NFa"
      },
      "source": [
        "# Give column names based on data description\n",
        "id_time=[\"txId\", \"time_step\"]\n",
        "local_feature_names = ['local_feature_' + str(i) for i in range(1, 94)]\n",
        "aggregate_feature_names = ['agg_feature_'+ str(i) for i in range(94, 166)]\n",
        "column_names = id_time + local_feature_names + aggregate_feature_names"
      ],
      "execution_count": 8,
      "outputs": []
    },
    {
      "cell_type": "code",
      "metadata": {
        "id": "T83MOEFgsXKw"
      },
      "source": [
        "classes_df = pd.read_csv('./elliptic_bitcoin_dataset/elliptic_txs_classes.csv')"
      ],
      "execution_count": 9,
      "outputs": []
    },
    {
      "cell_type": "code",
      "metadata": {
        "colab": {
          "base_uri": "https://localhost:8080/",
          "height": 195
        },
        "id": "wtMkJNlbtPVg",
        "outputId": "a4abd358-718b-4717-9f83-37375ad985cf"
      },
      "source": [
        "classes_df.head()"
      ],
      "execution_count": 10,
      "outputs": [
        {
          "output_type": "execute_result",
          "data": {
            "text/html": [
              "<div>\n",
              "<style scoped>\n",
              "    .dataframe tbody tr th:only-of-type {\n",
              "        vertical-align: middle;\n",
              "    }\n",
              "\n",
              "    .dataframe tbody tr th {\n",
              "        vertical-align: top;\n",
              "    }\n",
              "\n",
              "    .dataframe thead th {\n",
              "        text-align: right;\n",
              "    }\n",
              "</style>\n",
              "<table border=\"1\" class=\"dataframe\">\n",
              "  <thead>\n",
              "    <tr style=\"text-align: right;\">\n",
              "      <th></th>\n",
              "      <th>txId</th>\n",
              "      <th>class</th>\n",
              "    </tr>\n",
              "  </thead>\n",
              "  <tbody>\n",
              "    <tr>\n",
              "      <th>0</th>\n",
              "      <td>230425980</td>\n",
              "      <td>unknown</td>\n",
              "    </tr>\n",
              "    <tr>\n",
              "      <th>1</th>\n",
              "      <td>5530458</td>\n",
              "      <td>unknown</td>\n",
              "    </tr>\n",
              "    <tr>\n",
              "      <th>2</th>\n",
              "      <td>232022460</td>\n",
              "      <td>unknown</td>\n",
              "    </tr>\n",
              "    <tr>\n",
              "      <th>3</th>\n",
              "      <td>232438397</td>\n",
              "      <td>2</td>\n",
              "    </tr>\n",
              "    <tr>\n",
              "      <th>4</th>\n",
              "      <td>230460314</td>\n",
              "      <td>unknown</td>\n",
              "    </tr>\n",
              "  </tbody>\n",
              "</table>\n",
              "</div>"
            ],
            "text/plain": [
              "        txId    class\n",
              "0  230425980  unknown\n",
              "1    5530458  unknown\n",
              "2  232022460  unknown\n",
              "3  232438397        2\n",
              "4  230460314  unknown"
            ]
          },
          "metadata": {
            "tags": []
          },
          "execution_count": 10
        }
      ]
    },
    {
      "cell_type": "code",
      "metadata": {
        "colab": {
          "base_uri": "https://localhost:8080/"
        },
        "id": "ZXchH795s9V6",
        "outputId": "cacb5541-ce66-4dd2-dbbd-b6c519611005"
      },
      "source": [
        "classes_df['class'].value_counts()"
      ],
      "execution_count": 11,
      "outputs": [
        {
          "output_type": "execute_result",
          "data": {
            "text/plain": [
              "unknown    157205\n",
              "2           42019\n",
              "1            4545\n",
              "Name: class, dtype: int64"
            ]
          },
          "metadata": {
            "tags": []
          },
          "execution_count": 11
        }
      ]
    },
    {
      "cell_type": "code",
      "metadata": {
        "colab": {
          "base_uri": "https://localhost:8080/"
        },
        "id": "Bf47XmratR0w",
        "outputId": "701c0be3-d824-4715-c283-a21a3a4e51f7"
      },
      "source": [
        "classes_df.shape"
      ],
      "execution_count": 12,
      "outputs": [
        {
          "output_type": "execute_result",
          "data": {
            "text/plain": [
              "(203769, 2)"
            ]
          },
          "metadata": {
            "tags": []
          },
          "execution_count": 12
        }
      ]
    },
    {
      "cell_type": "code",
      "metadata": {
        "colab": {
          "base_uri": "https://localhost:8080/",
          "height": 244
        },
        "id": "BqyQ9Kf5tWIY",
        "outputId": "5ebcb89f-bfff-490b-f456-5cd62dd49eba"
      },
      "source": [
        "features_df = pd.read_csv('./elliptic_bitcoin_dataset/elliptic_txs_features.csv', header=None, names=column_names)\n",
        "features_df.head()"
      ],
      "execution_count": 13,
      "outputs": [
        {
          "output_type": "execute_result",
          "data": {
            "text/html": [
              "<div>\n",
              "<style scoped>\n",
              "    .dataframe tbody tr th:only-of-type {\n",
              "        vertical-align: middle;\n",
              "    }\n",
              "\n",
              "    .dataframe tbody tr th {\n",
              "        vertical-align: top;\n",
              "    }\n",
              "\n",
              "    .dataframe thead th {\n",
              "        text-align: right;\n",
              "    }\n",
              "</style>\n",
              "<table border=\"1\" class=\"dataframe\">\n",
              "  <thead>\n",
              "    <tr style=\"text-align: right;\">\n",
              "      <th></th>\n",
              "      <th>txId</th>\n",
              "      <th>time_step</th>\n",
              "      <th>local_feature_1</th>\n",
              "      <th>local_feature_2</th>\n",
              "      <th>local_feature_3</th>\n",
              "      <th>local_feature_4</th>\n",
              "      <th>local_feature_5</th>\n",
              "      <th>local_feature_6</th>\n",
              "      <th>local_feature_7</th>\n",
              "      <th>local_feature_8</th>\n",
              "      <th>local_feature_9</th>\n",
              "      <th>local_feature_10</th>\n",
              "      <th>local_feature_11</th>\n",
              "      <th>local_feature_12</th>\n",
              "      <th>local_feature_13</th>\n",
              "      <th>local_feature_14</th>\n",
              "      <th>local_feature_15</th>\n",
              "      <th>local_feature_16</th>\n",
              "      <th>local_feature_17</th>\n",
              "      <th>local_feature_18</th>\n",
              "      <th>local_feature_19</th>\n",
              "      <th>local_feature_20</th>\n",
              "      <th>local_feature_21</th>\n",
              "      <th>local_feature_22</th>\n",
              "      <th>local_feature_23</th>\n",
              "      <th>local_feature_24</th>\n",
              "      <th>local_feature_25</th>\n",
              "      <th>local_feature_26</th>\n",
              "      <th>local_feature_27</th>\n",
              "      <th>local_feature_28</th>\n",
              "      <th>local_feature_29</th>\n",
              "      <th>local_feature_30</th>\n",
              "      <th>local_feature_31</th>\n",
              "      <th>local_feature_32</th>\n",
              "      <th>local_feature_33</th>\n",
              "      <th>local_feature_34</th>\n",
              "      <th>local_feature_35</th>\n",
              "      <th>local_feature_36</th>\n",
              "      <th>local_feature_37</th>\n",
              "      <th>local_feature_38</th>\n",
              "      <th>...</th>\n",
              "      <th>agg_feature_126</th>\n",
              "      <th>agg_feature_127</th>\n",
              "      <th>agg_feature_128</th>\n",
              "      <th>agg_feature_129</th>\n",
              "      <th>agg_feature_130</th>\n",
              "      <th>agg_feature_131</th>\n",
              "      <th>agg_feature_132</th>\n",
              "      <th>agg_feature_133</th>\n",
              "      <th>agg_feature_134</th>\n",
              "      <th>agg_feature_135</th>\n",
              "      <th>agg_feature_136</th>\n",
              "      <th>agg_feature_137</th>\n",
              "      <th>agg_feature_138</th>\n",
              "      <th>agg_feature_139</th>\n",
              "      <th>agg_feature_140</th>\n",
              "      <th>agg_feature_141</th>\n",
              "      <th>agg_feature_142</th>\n",
              "      <th>agg_feature_143</th>\n",
              "      <th>agg_feature_144</th>\n",
              "      <th>agg_feature_145</th>\n",
              "      <th>agg_feature_146</th>\n",
              "      <th>agg_feature_147</th>\n",
              "      <th>agg_feature_148</th>\n",
              "      <th>agg_feature_149</th>\n",
              "      <th>agg_feature_150</th>\n",
              "      <th>agg_feature_151</th>\n",
              "      <th>agg_feature_152</th>\n",
              "      <th>agg_feature_153</th>\n",
              "      <th>agg_feature_154</th>\n",
              "      <th>agg_feature_155</th>\n",
              "      <th>agg_feature_156</th>\n",
              "      <th>agg_feature_157</th>\n",
              "      <th>agg_feature_158</th>\n",
              "      <th>agg_feature_159</th>\n",
              "      <th>agg_feature_160</th>\n",
              "      <th>agg_feature_161</th>\n",
              "      <th>agg_feature_162</th>\n",
              "      <th>agg_feature_163</th>\n",
              "      <th>agg_feature_164</th>\n",
              "      <th>agg_feature_165</th>\n",
              "    </tr>\n",
              "  </thead>\n",
              "  <tbody>\n",
              "    <tr>\n",
              "      <th>0</th>\n",
              "      <td>230425980</td>\n",
              "      <td>1</td>\n",
              "      <td>-0.171469</td>\n",
              "      <td>-0.184668</td>\n",
              "      <td>-1.201369</td>\n",
              "      <td>-0.121970</td>\n",
              "      <td>-0.043875</td>\n",
              "      <td>-0.113002</td>\n",
              "      <td>-0.061584</td>\n",
              "      <td>-0.162097</td>\n",
              "      <td>-0.167933</td>\n",
              "      <td>-0.049707</td>\n",
              "      <td>-0.164402</td>\n",
              "      <td>-0.028741</td>\n",
              "      <td>-0.035391</td>\n",
              "      <td>-0.042955</td>\n",
              "      <td>-0.013282</td>\n",
              "      <td>-0.057195</td>\n",
              "      <td>-0.169609</td>\n",
              "      <td>-0.171154</td>\n",
              "      <td>-0.174473</td>\n",
              "      <td>-1.373657</td>\n",
              "      <td>-1.371460</td>\n",
              "      <td>-0.139731</td>\n",
              "      <td>-0.148912</td>\n",
              "      <td>-0.080147</td>\n",
              "      <td>-0.155661</td>\n",
              "      <td>-0.010763</td>\n",
              "      <td>-0.012107</td>\n",
              "      <td>-0.139733</td>\n",
              "      <td>-0.148907</td>\n",
              "      <td>-0.080147</td>\n",
              "      <td>-0.155661</td>\n",
              "      <td>-0.010669</td>\n",
              "      <td>-0.012005</td>\n",
              "      <td>-0.024669</td>\n",
              "      <td>-0.031272</td>\n",
              "      <td>-0.023045</td>\n",
              "      <td>-0.026215</td>\n",
              "      <td>0.001428</td>\n",
              "      <td>...</td>\n",
              "      <td>-0.097719</td>\n",
              "      <td>-0.127462</td>\n",
              "      <td>0.003143</td>\n",
              "      <td>0.002426</td>\n",
              "      <td>-0.120950</td>\n",
              "      <td>-0.199145</td>\n",
              "      <td>-0.187993</td>\n",
              "      <td>-0.212948</td>\n",
              "      <td>1.064205</td>\n",
              "      <td>1.063787</td>\n",
              "      <td>-1.373782</td>\n",
              "      <td>-1.354735</td>\n",
              "      <td>-0.297975</td>\n",
              "      <td>-1.403698</td>\n",
              "      <td>1.342003</td>\n",
              "      <td>1.340733</td>\n",
              "      <td>-0.171601</td>\n",
              "      <td>-0.458162</td>\n",
              "      <td>-0.423588</td>\n",
              "      <td>-0.440883</td>\n",
              "      <td>-1.015963</td>\n",
              "      <td>-1.016230</td>\n",
              "      <td>-0.968903</td>\n",
              "      <td>-0.375715</td>\n",
              "      <td>0.759748</td>\n",
              "      <td>-0.768329</td>\n",
              "      <td>1.488113</td>\n",
              "      <td>1.487932</td>\n",
              "      <td>-0.216814</td>\n",
              "      <td>-0.605631</td>\n",
              "      <td>-0.562153</td>\n",
              "      <td>-0.600999</td>\n",
              "      <td>1.461330</td>\n",
              "      <td>1.461369</td>\n",
              "      <td>0.018279</td>\n",
              "      <td>-0.087490</td>\n",
              "      <td>-0.131155</td>\n",
              "      <td>-0.097524</td>\n",
              "      <td>-0.120613</td>\n",
              "      <td>-0.119792</td>\n",
              "    </tr>\n",
              "    <tr>\n",
              "      <th>1</th>\n",
              "      <td>5530458</td>\n",
              "      <td>1</td>\n",
              "      <td>-0.171484</td>\n",
              "      <td>-0.184668</td>\n",
              "      <td>-1.201369</td>\n",
              "      <td>-0.121970</td>\n",
              "      <td>-0.043875</td>\n",
              "      <td>-0.113002</td>\n",
              "      <td>-0.061584</td>\n",
              "      <td>-0.162112</td>\n",
              "      <td>-0.167948</td>\n",
              "      <td>-0.049707</td>\n",
              "      <td>-0.164417</td>\n",
              "      <td>-0.028741</td>\n",
              "      <td>-0.035391</td>\n",
              "      <td>-0.042955</td>\n",
              "      <td>-0.013282</td>\n",
              "      <td>-0.055327</td>\n",
              "      <td>-0.169757</td>\n",
              "      <td>-0.171477</td>\n",
              "      <td>-0.174490</td>\n",
              "      <td>0.887058</td>\n",
              "      <td>0.884557</td>\n",
              "      <td>-0.139731</td>\n",
              "      <td>-0.148912</td>\n",
              "      <td>-0.080147</td>\n",
              "      <td>-0.155661</td>\n",
              "      <td>-0.010763</td>\n",
              "      <td>-0.012107</td>\n",
              "      <td>-0.139733</td>\n",
              "      <td>-0.148907</td>\n",
              "      <td>-0.080147</td>\n",
              "      <td>-0.155661</td>\n",
              "      <td>-0.010669</td>\n",
              "      <td>-0.012005</td>\n",
              "      <td>-0.024669</td>\n",
              "      <td>-0.031272</td>\n",
              "      <td>-0.023045</td>\n",
              "      <td>-0.026215</td>\n",
              "      <td>0.001428</td>\n",
              "      <td>...</td>\n",
              "      <td>-0.097719</td>\n",
              "      <td>-0.127462</td>\n",
              "      <td>0.003143</td>\n",
              "      <td>0.002426</td>\n",
              "      <td>-0.121330</td>\n",
              "      <td>-0.110933</td>\n",
              "      <td>-0.075909</td>\n",
              "      <td>-0.111641</td>\n",
              "      <td>-1.159649</td>\n",
              "      <td>-1.160129</td>\n",
              "      <td>-1.373723</td>\n",
              "      <td>-1.353918</td>\n",
              "      <td>-0.295982</td>\n",
              "      <td>-1.403215</td>\n",
              "      <td>-0.975738</td>\n",
              "      <td>-0.975237</td>\n",
              "      <td>-0.168742</td>\n",
              "      <td>-0.263290</td>\n",
              "      <td>-0.186389</td>\n",
              "      <td>-0.250875</td>\n",
              "      <td>-1.015963</td>\n",
              "      <td>-1.016230</td>\n",
              "      <td>-0.968903</td>\n",
              "      <td>0.146997</td>\n",
              "      <td>1.366287</td>\n",
              "      <td>-0.464773</td>\n",
              "      <td>-1.116918</td>\n",
              "      <td>-1.116948</td>\n",
              "      <td>-0.216814</td>\n",
              "      <td>0.634272</td>\n",
              "      <td>0.947382</td>\n",
              "      <td>0.673103</td>\n",
              "      <td>-0.979074</td>\n",
              "      <td>-0.978556</td>\n",
              "      <td>0.018279</td>\n",
              "      <td>-0.087490</td>\n",
              "      <td>-0.131155</td>\n",
              "      <td>-0.097524</td>\n",
              "      <td>-0.120613</td>\n",
              "      <td>-0.119792</td>\n",
              "    </tr>\n",
              "    <tr>\n",
              "      <th>2</th>\n",
              "      <td>232022460</td>\n",
              "      <td>1</td>\n",
              "      <td>-0.172107</td>\n",
              "      <td>-0.184668</td>\n",
              "      <td>-1.201369</td>\n",
              "      <td>-0.121970</td>\n",
              "      <td>-0.043875</td>\n",
              "      <td>-0.113002</td>\n",
              "      <td>-0.061584</td>\n",
              "      <td>-0.162749</td>\n",
              "      <td>-0.168576</td>\n",
              "      <td>-0.049707</td>\n",
              "      <td>-0.165054</td>\n",
              "      <td>-0.028741</td>\n",
              "      <td>-0.035391</td>\n",
              "      <td>-0.042955</td>\n",
              "      <td>-0.013282</td>\n",
              "      <td>-0.055298</td>\n",
              "      <td>-0.170400</td>\n",
              "      <td>-0.172217</td>\n",
              "      <td>-0.175227</td>\n",
              "      <td>0.887058</td>\n",
              "      <td>0.884557</td>\n",
              "      <td>-0.139729</td>\n",
              "      <td>-0.148911</td>\n",
              "      <td>-0.080147</td>\n",
              "      <td>-0.155660</td>\n",
              "      <td>-0.010763</td>\n",
              "      <td>-0.012107</td>\n",
              "      <td>-0.139731</td>\n",
              "      <td>-0.148906</td>\n",
              "      <td>-0.080147</td>\n",
              "      <td>-0.155660</td>\n",
              "      <td>-0.010669</td>\n",
              "      <td>-0.012005</td>\n",
              "      <td>-0.024669</td>\n",
              "      <td>-0.031272</td>\n",
              "      <td>-0.023045</td>\n",
              "      <td>-0.026215</td>\n",
              "      <td>0.001428</td>\n",
              "      <td>...</td>\n",
              "      <td>-0.097719</td>\n",
              "      <td>-0.129496</td>\n",
              "      <td>0.003143</td>\n",
              "      <td>0.002426</td>\n",
              "      <td>-0.122974</td>\n",
              "      <td>-0.041556</td>\n",
              "      <td>0.012549</td>\n",
              "      <td>-0.032244</td>\n",
              "      <td>-1.159649</td>\n",
              "      <td>-1.160129</td>\n",
              "      <td>-1.373902</td>\n",
              "      <td>-1.356210</td>\n",
              "      <td>-0.301548</td>\n",
              "      <td>-1.404577</td>\n",
              "      <td>-0.975738</td>\n",
              "      <td>-0.975237</td>\n",
              "      <td>-0.168742</td>\n",
              "      <td>-0.192468</td>\n",
              "      <td>-0.099790</td>\n",
              "      <td>-0.182133</td>\n",
              "      <td>-1.015963</td>\n",
              "      <td>-1.016230</td>\n",
              "      <td>-0.968903</td>\n",
              "      <td>-1.421138</td>\n",
              "      <td>-0.453330</td>\n",
              "      <td>-1.375441</td>\n",
              "      <td>-1.116918</td>\n",
              "      <td>-1.116948</td>\n",
              "      <td>-0.216814</td>\n",
              "      <td>0.407161</td>\n",
              "      <td>0.670883</td>\n",
              "      <td>0.439728</td>\n",
              "      <td>-0.979074</td>\n",
              "      <td>-0.978556</td>\n",
              "      <td>-0.098889</td>\n",
              "      <td>-0.106715</td>\n",
              "      <td>-0.131155</td>\n",
              "      <td>-0.183671</td>\n",
              "      <td>-0.120613</td>\n",
              "      <td>-0.119792</td>\n",
              "    </tr>\n",
              "    <tr>\n",
              "      <th>3</th>\n",
              "      <td>232438397</td>\n",
              "      <td>1</td>\n",
              "      <td>0.163054</td>\n",
              "      <td>1.963790</td>\n",
              "      <td>-0.646376</td>\n",
              "      <td>12.409294</td>\n",
              "      <td>-0.063725</td>\n",
              "      <td>9.782742</td>\n",
              "      <td>12.414558</td>\n",
              "      <td>-0.163645</td>\n",
              "      <td>-0.115831</td>\n",
              "      <td>0.043598</td>\n",
              "      <td>-0.163905</td>\n",
              "      <td>1.059993</td>\n",
              "      <td>2.397457</td>\n",
              "      <td>-0.063200</td>\n",
              "      <td>-0.013282</td>\n",
              "      <td>4.800240</td>\n",
              "      <td>0.174329</td>\n",
              "      <td>-0.172908</td>\n",
              "      <td>0.619399</td>\n",
              "      <td>-0.243300</td>\n",
              "      <td>-0.243452</td>\n",
              "      <td>-0.139732</td>\n",
              "      <td>-0.146895</td>\n",
              "      <td>-0.079667</td>\n",
              "      <td>-0.155554</td>\n",
              "      <td>0.773847</td>\n",
              "      <td>0.378516</td>\n",
              "      <td>-0.139734</td>\n",
              "      <td>-0.146891</td>\n",
              "      <td>-0.079667</td>\n",
              "      <td>-0.155553</td>\n",
              "      <td>0.773932</td>\n",
              "      <td>0.378593</td>\n",
              "      <td>-0.024669</td>\n",
              "      <td>-0.031271</td>\n",
              "      <td>-0.023044</td>\n",
              "      <td>-0.026215</td>\n",
              "      <td>0.101008</td>\n",
              "      <td>...</td>\n",
              "      <td>0.019771</td>\n",
              "      <td>-0.119195</td>\n",
              "      <td>0.147881</td>\n",
              "      <td>0.956170</td>\n",
              "      <td>0.759756</td>\n",
              "      <td>-0.041556</td>\n",
              "      <td>-0.188716</td>\n",
              "      <td>0.149949</td>\n",
              "      <td>-0.047722</td>\n",
              "      <td>-0.048171</td>\n",
              "      <td>-1.373723</td>\n",
              "      <td>-1.356131</td>\n",
              "      <td>-0.301754</td>\n",
              "      <td>-1.404445</td>\n",
              "      <td>0.183133</td>\n",
              "      <td>0.182748</td>\n",
              "      <td>-0.163577</td>\n",
              "      <td>-0.456561</td>\n",
              "      <td>-0.424672</td>\n",
              "      <td>-0.436915</td>\n",
              "      <td>0.143001</td>\n",
              "      <td>0.142525</td>\n",
              "      <td>-0.425896</td>\n",
              "      <td>-1.421138</td>\n",
              "      <td>-1.059868</td>\n",
              "      <td>-1.071885</td>\n",
              "      <td>0.185597</td>\n",
              "      <td>0.185492</td>\n",
              "      <td>-0.216814</td>\n",
              "      <td>-0.617907</td>\n",
              "      <td>-0.577099</td>\n",
              "      <td>-0.613614</td>\n",
              "      <td>0.241128</td>\n",
              "      <td>0.241406</td>\n",
              "      <td>1.072793</td>\n",
              "      <td>0.085530</td>\n",
              "      <td>-0.131155</td>\n",
              "      <td>0.677799</td>\n",
              "      <td>-0.120613</td>\n",
              "      <td>-0.119792</td>\n",
              "    </tr>\n",
              "    <tr>\n",
              "      <th>4</th>\n",
              "      <td>230460314</td>\n",
              "      <td>1</td>\n",
              "      <td>1.011523</td>\n",
              "      <td>-0.081127</td>\n",
              "      <td>-1.201369</td>\n",
              "      <td>1.153668</td>\n",
              "      <td>0.333276</td>\n",
              "      <td>1.312656</td>\n",
              "      <td>-0.061584</td>\n",
              "      <td>-0.163523</td>\n",
              "      <td>0.041399</td>\n",
              "      <td>0.935886</td>\n",
              "      <td>-0.098695</td>\n",
              "      <td>1.203038</td>\n",
              "      <td>0.988902</td>\n",
              "      <td>0.341693</td>\n",
              "      <td>-0.013282</td>\n",
              "      <td>-0.057392</td>\n",
              "      <td>0.058329</td>\n",
              "      <td>-0.032930</td>\n",
              "      <td>-0.042709</td>\n",
              "      <td>0.065455</td>\n",
              "      <td>0.324947</td>\n",
              "      <td>-0.139732</td>\n",
              "      <td>-0.148854</td>\n",
              "      <td>-0.080105</td>\n",
              "      <td>-0.155638</td>\n",
              "      <td>1.313051</td>\n",
              "      <td>1.106965</td>\n",
              "      <td>-0.139734</td>\n",
              "      <td>-0.148850</td>\n",
              "      <td>-0.080104</td>\n",
              "      <td>-0.155638</td>\n",
              "      <td>1.313130</td>\n",
              "      <td>1.106995</td>\n",
              "      <td>-0.024669</td>\n",
              "      <td>-0.031272</td>\n",
              "      <td>-0.023045</td>\n",
              "      <td>-0.026215</td>\n",
              "      <td>0.001428</td>\n",
              "      <td>...</td>\n",
              "      <td>-0.077909</td>\n",
              "      <td>-0.093120</td>\n",
              "      <td>1.587690</td>\n",
              "      <td>1.586539</td>\n",
              "      <td>-0.101820</td>\n",
              "      <td>0.704558</td>\n",
              "      <td>0.448898</td>\n",
              "      <td>0.659662</td>\n",
              "      <td>0.311091</td>\n",
              "      <td>0.302198</td>\n",
              "      <td>-1.373962</td>\n",
              "      <td>-1.355393</td>\n",
              "      <td>-0.300941</td>\n",
              "      <td>-1.404583</td>\n",
              "      <td>0.064846</td>\n",
              "      <td>-0.035232</td>\n",
              "      <td>-0.168742</td>\n",
              "      <td>-0.442156</td>\n",
              "      <td>-0.416540</td>\n",
              "      <td>-0.418273</td>\n",
              "      <td>0.367605</td>\n",
              "      <td>0.392035</td>\n",
              "      <td>-0.968903</td>\n",
              "      <td>-1.943850</td>\n",
              "      <td>-1.059868</td>\n",
              "      <td>-1.678997</td>\n",
              "      <td>0.185597</td>\n",
              "      <td>0.185492</td>\n",
              "      <td>-0.169472</td>\n",
              "      <td>-0.470592</td>\n",
              "      <td>-0.511871</td>\n",
              "      <td>-0.400422</td>\n",
              "      <td>0.517257</td>\n",
              "      <td>0.579382</td>\n",
              "      <td>0.018279</td>\n",
              "      <td>0.277775</td>\n",
              "      <td>0.326394</td>\n",
              "      <td>1.293750</td>\n",
              "      <td>0.178136</td>\n",
              "      <td>0.179117</td>\n",
              "    </tr>\n",
              "  </tbody>\n",
              "</table>\n",
              "<p>5 rows × 167 columns</p>\n",
              "</div>"
            ],
            "text/plain": [
              "        txId  time_step  ...  agg_feature_164  agg_feature_165\n",
              "0  230425980          1  ...        -0.120613        -0.119792\n",
              "1    5530458          1  ...        -0.120613        -0.119792\n",
              "2  232022460          1  ...        -0.120613        -0.119792\n",
              "3  232438397          1  ...        -0.120613        -0.119792\n",
              "4  230460314          1  ...         0.178136         0.179117\n",
              "\n",
              "[5 rows x 167 columns]"
            ]
          },
          "metadata": {
            "tags": []
          },
          "execution_count": 13
        }
      ]
    },
    {
      "cell_type": "code",
      "metadata": {
        "colab": {
          "base_uri": "https://localhost:8080/"
        },
        "id": "7GHBV71SugWN",
        "outputId": "a77b7410-c134-4c4e-f7a4-acb67d8221ae"
      },
      "source": [
        "features_df.info()"
      ],
      "execution_count": 14,
      "outputs": [
        {
          "output_type": "stream",
          "text": [
            "<class 'pandas.core.frame.DataFrame'>\n",
            "RangeIndex: 203769 entries, 0 to 203768\n",
            "Columns: 167 entries, txId to agg_feature_165\n",
            "dtypes: float64(165), int64(2)\n",
            "memory usage: 259.6 MB\n"
          ],
          "name": "stdout"
        }
      ]
    },
    {
      "cell_type": "code",
      "metadata": {
        "id": "GtQxa6eYwNPj"
      },
      "source": [
        "features_by_timestep = features_df.groupby(by='time_step')['txId'].count()"
      ],
      "execution_count": 15,
      "outputs": []
    },
    {
      "cell_type": "code",
      "metadata": {
        "colab": {
          "base_uri": "https://localhost:8080/"
        },
        "id": "frnNpXRwgm5R",
        "outputId": "fed4736e-0318-4275-bc24-08c41158070b"
      },
      "source": [
        "features_by_timestep.head()"
      ],
      "execution_count": 16,
      "outputs": [
        {
          "output_type": "execute_result",
          "data": {
            "text/plain": [
              "time_step\n",
              "1    7880\n",
              "2    4544\n",
              "3    6621\n",
              "4    5693\n",
              "5    6803\n",
              "Name: txId, dtype: int64"
            ]
          },
          "metadata": {
            "tags": []
          },
          "execution_count": 16
        }
      ]
    },
    {
      "cell_type": "code",
      "metadata": {
        "colab": {
          "base_uri": "https://localhost:8080/",
          "height": 1000
        },
        "id": "A0DGP9nhxfJu",
        "outputId": "8e2c67ff-659a-4faa-a2e5-66ce37d66609"
      },
      "source": [
        "plt.figure(figsize=(15,20))\n",
        "plt.xlabel('Total number of transactions', fontsize=20)\n",
        "plt.ylabel('Time Step', fontsize=20)\n",
        "plt.title('Number of transactions at each timestep', fontsize=20)\n",
        "features_by_timestep.plot(kind='barh', color='green');"
      ],
      "execution_count": 17,
      "outputs": [
        {
          "output_type": "display_data",
          "data": {
            "image/png": "[encoded data removed]",
            "text/plain": [
              "<Figure size 1080x1440 with 1 Axes>"
            ]
          },
          "metadata": {
            "tags": [],
            "needs_background": "light"
          }
        }
      ]
    },
    {
      "cell_type": "code",
      "metadata": {
        "colab": {
          "base_uri": "https://localhost:8080/",
          "height": 195
        },
        "id": "dx6kHFu7trSZ",
        "outputId": "eb7038ee-557f-423a-a4cd-06cd03318398"
      },
      "source": [
        "edges_df = pd.read_csv('elliptic_bitcoin_dataset/elliptic_txs_edgelist.csv')\n",
        "edges_df.head()"
      ],
      "execution_count": 18,
      "outputs": [
        {
          "output_type": "execute_result",
          "data": {
            "text/html": [
              "<div>\n",
              "<style scoped>\n",
              "    .dataframe tbody tr th:only-of-type {\n",
              "        vertical-align: middle;\n",
              "    }\n",
              "\n",
              "    .dataframe tbody tr th {\n",
              "        vertical-align: top;\n",
              "    }\n",
              "\n",
              "    .dataframe thead th {\n",
              "        text-align: right;\n",
              "    }\n",
              "</style>\n",
              "<table border=\"1\" class=\"dataframe\">\n",
              "  <thead>\n",
              "    <tr style=\"text-align: right;\">\n",
              "      <th></th>\n",
              "      <th>txId1</th>\n",
              "      <th>txId2</th>\n",
              "    </tr>\n",
              "  </thead>\n",
              "  <tbody>\n",
              "    <tr>\n",
              "      <th>0</th>\n",
              "      <td>230425980</td>\n",
              "      <td>5530458</td>\n",
              "    </tr>\n",
              "    <tr>\n",
              "      <th>1</th>\n",
              "      <td>232022460</td>\n",
              "      <td>232438397</td>\n",
              "    </tr>\n",
              "    <tr>\n",
              "      <th>2</th>\n",
              "      <td>230460314</td>\n",
              "      <td>230459870</td>\n",
              "    </tr>\n",
              "    <tr>\n",
              "      <th>3</th>\n",
              "      <td>230333930</td>\n",
              "      <td>230595899</td>\n",
              "    </tr>\n",
              "    <tr>\n",
              "      <th>4</th>\n",
              "      <td>232013274</td>\n",
              "      <td>232029206</td>\n",
              "    </tr>\n",
              "  </tbody>\n",
              "</table>\n",
              "</div>"
            ],
            "text/plain": [
              "       txId1      txId2\n",
              "0  230425980    5530458\n",
              "1  232022460  232438397\n",
              "2  230460314  230459870\n",
              "3  230333930  230595899\n",
              "4  232013274  232029206"
            ]
          },
          "metadata": {
            "tags": []
          },
          "execution_count": 18
        }
      ]
    },
    {
      "cell_type": "code",
      "metadata": {
        "colab": {
          "base_uri": "https://localhost:8080/",
          "height": 244
        },
        "id": "lVy_fZLG5k0J",
        "outputId": "6d5f51ad-ed63-477f-b30f-3f49701406f7"
      },
      "source": [
        "merged_df = pd.merge(classes_df, features_df, on='txId')\n",
        "merged_df.head()"
      ],
      "execution_count": 19,
      "outputs": [
        {
          "output_type": "execute_result",
          "data": {
            "text/html": [
              "<div>\n",
              "<style scoped>\n",
              "    .dataframe tbody tr th:only-of-type {\n",
              "        vertical-align: middle;\n",
              "    }\n",
              "\n",
              "    .dataframe tbody tr th {\n",
              "        vertical-align: top;\n",
              "    }\n",
              "\n",
              "    .dataframe thead th {\n",
              "        text-align: right;\n",
              "    }\n",
              "</style>\n",
              "<table border=\"1\" class=\"dataframe\">\n",
              "  <thead>\n",
              "    <tr style=\"text-align: right;\">\n",
              "      <th></th>\n",
              "      <th>txId</th>\n",
              "      <th>class</th>\n",
              "      <th>time_step</th>\n",
              "      <th>local_feature_1</th>\n",
              "      <th>local_feature_2</th>\n",
              "      <th>local_feature_3</th>\n",
              "      <th>local_feature_4</th>\n",
              "      <th>local_feature_5</th>\n",
              "      <th>local_feature_6</th>\n",
              "      <th>local_feature_7</th>\n",
              "      <th>local_feature_8</th>\n",
              "      <th>local_feature_9</th>\n",
              "      <th>local_feature_10</th>\n",
              "      <th>local_feature_11</th>\n",
              "      <th>local_feature_12</th>\n",
              "      <th>local_feature_13</th>\n",
              "      <th>local_feature_14</th>\n",
              "      <th>local_feature_15</th>\n",
              "      <th>local_feature_16</th>\n",
              "      <th>local_feature_17</th>\n",
              "      <th>local_feature_18</th>\n",
              "      <th>local_feature_19</th>\n",
              "      <th>local_feature_20</th>\n",
              "      <th>local_feature_21</th>\n",
              "      <th>local_feature_22</th>\n",
              "      <th>local_feature_23</th>\n",
              "      <th>local_feature_24</th>\n",
              "      <th>local_feature_25</th>\n",
              "      <th>local_feature_26</th>\n",
              "      <th>local_feature_27</th>\n",
              "      <th>local_feature_28</th>\n",
              "      <th>local_feature_29</th>\n",
              "      <th>local_feature_30</th>\n",
              "      <th>local_feature_31</th>\n",
              "      <th>local_feature_32</th>\n",
              "      <th>local_feature_33</th>\n",
              "      <th>local_feature_34</th>\n",
              "      <th>local_feature_35</th>\n",
              "      <th>local_feature_36</th>\n",
              "      <th>local_feature_37</th>\n",
              "      <th>...</th>\n",
              "      <th>agg_feature_126</th>\n",
              "      <th>agg_feature_127</th>\n",
              "      <th>agg_feature_128</th>\n",
              "      <th>agg_feature_129</th>\n",
              "      <th>agg_feature_130</th>\n",
              "      <th>agg_feature_131</th>\n",
              "      <th>agg_feature_132</th>\n",
              "      <th>agg_feature_133</th>\n",
              "      <th>agg_feature_134</th>\n",
              "      <th>agg_feature_135</th>\n",
              "      <th>agg_feature_136</th>\n",
              "      <th>agg_feature_137</th>\n",
              "      <th>agg_feature_138</th>\n",
              "      <th>agg_feature_139</th>\n",
              "      <th>agg_feature_140</th>\n",
              "      <th>agg_feature_141</th>\n",
              "      <th>agg_feature_142</th>\n",
              "      <th>agg_feature_143</th>\n",
              "      <th>agg_feature_144</th>\n",
              "      <th>agg_feature_145</th>\n",
              "      <th>agg_feature_146</th>\n",
              "      <th>agg_feature_147</th>\n",
              "      <th>agg_feature_148</th>\n",
              "      <th>agg_feature_149</th>\n",
              "      <th>agg_feature_150</th>\n",
              "      <th>agg_feature_151</th>\n",
              "      <th>agg_feature_152</th>\n",
              "      <th>agg_feature_153</th>\n",
              "      <th>agg_feature_154</th>\n",
              "      <th>agg_feature_155</th>\n",
              "      <th>agg_feature_156</th>\n",
              "      <th>agg_feature_157</th>\n",
              "      <th>agg_feature_158</th>\n",
              "      <th>agg_feature_159</th>\n",
              "      <th>agg_feature_160</th>\n",
              "      <th>agg_feature_161</th>\n",
              "      <th>agg_feature_162</th>\n",
              "      <th>agg_feature_163</th>\n",
              "      <th>agg_feature_164</th>\n",
              "      <th>agg_feature_165</th>\n",
              "    </tr>\n",
              "  </thead>\n",
              "  <tbody>\n",
              "    <tr>\n",
              "      <th>0</th>\n",
              "      <td>230425980</td>\n",
              "      <td>unknown</td>\n",
              "      <td>1</td>\n",
              "      <td>-0.171469</td>\n",
              "      <td>-0.184668</td>\n",
              "      <td>-1.201369</td>\n",
              "      <td>-0.121970</td>\n",
              "      <td>-0.043875</td>\n",
              "      <td>-0.113002</td>\n",
              "      <td>-0.061584</td>\n",
              "      <td>-0.162097</td>\n",
              "      <td>-0.167933</td>\n",
              "      <td>-0.049707</td>\n",
              "      <td>-0.164402</td>\n",
              "      <td>-0.028741</td>\n",
              "      <td>-0.035391</td>\n",
              "      <td>-0.042955</td>\n",
              "      <td>-0.013282</td>\n",
              "      <td>-0.057195</td>\n",
              "      <td>-0.169609</td>\n",
              "      <td>-0.171154</td>\n",
              "      <td>-0.174473</td>\n",
              "      <td>-1.373657</td>\n",
              "      <td>-1.371460</td>\n",
              "      <td>-0.139731</td>\n",
              "      <td>-0.148912</td>\n",
              "      <td>-0.080147</td>\n",
              "      <td>-0.155661</td>\n",
              "      <td>-0.010763</td>\n",
              "      <td>-0.012107</td>\n",
              "      <td>-0.139733</td>\n",
              "      <td>-0.148907</td>\n",
              "      <td>-0.080147</td>\n",
              "      <td>-0.155661</td>\n",
              "      <td>-0.010669</td>\n",
              "      <td>-0.012005</td>\n",
              "      <td>-0.024669</td>\n",
              "      <td>-0.031272</td>\n",
              "      <td>-0.023045</td>\n",
              "      <td>-0.026215</td>\n",
              "      <td>...</td>\n",
              "      <td>-0.097719</td>\n",
              "      <td>-0.127462</td>\n",
              "      <td>0.003143</td>\n",
              "      <td>0.002426</td>\n",
              "      <td>-0.120950</td>\n",
              "      <td>-0.199145</td>\n",
              "      <td>-0.187993</td>\n",
              "      <td>-0.212948</td>\n",
              "      <td>1.064205</td>\n",
              "      <td>1.063787</td>\n",
              "      <td>-1.373782</td>\n",
              "      <td>-1.354735</td>\n",
              "      <td>-0.297975</td>\n",
              "      <td>-1.403698</td>\n",
              "      <td>1.342003</td>\n",
              "      <td>1.340733</td>\n",
              "      <td>-0.171601</td>\n",
              "      <td>-0.458162</td>\n",
              "      <td>-0.423588</td>\n",
              "      <td>-0.440883</td>\n",
              "      <td>-1.015963</td>\n",
              "      <td>-1.016230</td>\n",
              "      <td>-0.968903</td>\n",
              "      <td>-0.375715</td>\n",
              "      <td>0.759748</td>\n",
              "      <td>-0.768329</td>\n",
              "      <td>1.488113</td>\n",
              "      <td>1.487932</td>\n",
              "      <td>-0.216814</td>\n",
              "      <td>-0.605631</td>\n",
              "      <td>-0.562153</td>\n",
              "      <td>-0.600999</td>\n",
              "      <td>1.461330</td>\n",
              "      <td>1.461369</td>\n",
              "      <td>0.018279</td>\n",
              "      <td>-0.087490</td>\n",
              "      <td>-0.131155</td>\n",
              "      <td>-0.097524</td>\n",
              "      <td>-0.120613</td>\n",
              "      <td>-0.119792</td>\n",
              "    </tr>\n",
              "    <tr>\n",
              "      <th>1</th>\n",
              "      <td>5530458</td>\n",
              "      <td>unknown</td>\n",
              "      <td>1</td>\n",
              "      <td>-0.171484</td>\n",
              "      <td>-0.184668</td>\n",
              "      <td>-1.201369</td>\n",
              "      <td>-0.121970</td>\n",
              "      <td>-0.043875</td>\n",
              "      <td>-0.113002</td>\n",
              "      <td>-0.061584</td>\n",
              "      <td>-0.162112</td>\n",
              "      <td>-0.167948</td>\n",
              "      <td>-0.049707</td>\n",
              "      <td>-0.164417</td>\n",
              "      <td>-0.028741</td>\n",
              "      <td>-0.035391</td>\n",
              "      <td>-0.042955</td>\n",
              "      <td>-0.013282</td>\n",
              "      <td>-0.055327</td>\n",
              "      <td>-0.169757</td>\n",
              "      <td>-0.171477</td>\n",
              "      <td>-0.174490</td>\n",
              "      <td>0.887058</td>\n",
              "      <td>0.884557</td>\n",
              "      <td>-0.139731</td>\n",
              "      <td>-0.148912</td>\n",
              "      <td>-0.080147</td>\n",
              "      <td>-0.155661</td>\n",
              "      <td>-0.010763</td>\n",
              "      <td>-0.012107</td>\n",
              "      <td>-0.139733</td>\n",
              "      <td>-0.148907</td>\n",
              "      <td>-0.080147</td>\n",
              "      <td>-0.155661</td>\n",
              "      <td>-0.010669</td>\n",
              "      <td>-0.012005</td>\n",
              "      <td>-0.024669</td>\n",
              "      <td>-0.031272</td>\n",
              "      <td>-0.023045</td>\n",
              "      <td>-0.026215</td>\n",
              "      <td>...</td>\n",
              "      <td>-0.097719</td>\n",
              "      <td>-0.127462</td>\n",
              "      <td>0.003143</td>\n",
              "      <td>0.002426</td>\n",
              "      <td>-0.121330</td>\n",
              "      <td>-0.110933</td>\n",
              "      <td>-0.075909</td>\n",
              "      <td>-0.111641</td>\n",
              "      <td>-1.159649</td>\n",
              "      <td>-1.160129</td>\n",
              "      <td>-1.373723</td>\n",
              "      <td>-1.353918</td>\n",
              "      <td>-0.295982</td>\n",
              "      <td>-1.403215</td>\n",
              "      <td>-0.975738</td>\n",
              "      <td>-0.975237</td>\n",
              "      <td>-0.168742</td>\n",
              "      <td>-0.263290</td>\n",
              "      <td>-0.186389</td>\n",
              "      <td>-0.250875</td>\n",
              "      <td>-1.015963</td>\n",
              "      <td>-1.016230</td>\n",
              "      <td>-0.968903</td>\n",
              "      <td>0.146997</td>\n",
              "      <td>1.366287</td>\n",
              "      <td>-0.464773</td>\n",
              "      <td>-1.116918</td>\n",
              "      <td>-1.116948</td>\n",
              "      <td>-0.216814</td>\n",
              "      <td>0.634272</td>\n",
              "      <td>0.947382</td>\n",
              "      <td>0.673103</td>\n",
              "      <td>-0.979074</td>\n",
              "      <td>-0.978556</td>\n",
              "      <td>0.018279</td>\n",
              "      <td>-0.087490</td>\n",
              "      <td>-0.131155</td>\n",
              "      <td>-0.097524</td>\n",
              "      <td>-0.120613</td>\n",
              "      <td>-0.119792</td>\n",
              "    </tr>\n",
              "    <tr>\n",
              "      <th>2</th>\n",
              "      <td>232022460</td>\n",
              "      <td>unknown</td>\n",
              "      <td>1</td>\n",
              "      <td>-0.172107</td>\n",
              "      <td>-0.184668</td>\n",
              "      <td>-1.201369</td>\n",
              "      <td>-0.121970</td>\n",
              "      <td>-0.043875</td>\n",
              "      <td>-0.113002</td>\n",
              "      <td>-0.061584</td>\n",
              "      <td>-0.162749</td>\n",
              "      <td>-0.168576</td>\n",
              "      <td>-0.049707</td>\n",
              "      <td>-0.165054</td>\n",
              "      <td>-0.028741</td>\n",
              "      <td>-0.035391</td>\n",
              "      <td>-0.042955</td>\n",
              "      <td>-0.013282</td>\n",
              "      <td>-0.055298</td>\n",
              "      <td>-0.170400</td>\n",
              "      <td>-0.172217</td>\n",
              "      <td>-0.175227</td>\n",
              "      <td>0.887058</td>\n",
              "      <td>0.884557</td>\n",
              "      <td>-0.139729</td>\n",
              "      <td>-0.148911</td>\n",
              "      <td>-0.080147</td>\n",
              "      <td>-0.155660</td>\n",
              "      <td>-0.010763</td>\n",
              "      <td>-0.012107</td>\n",
              "      <td>-0.139731</td>\n",
              "      <td>-0.148906</td>\n",
              "      <td>-0.080147</td>\n",
              "      <td>-0.155660</td>\n",
              "      <td>-0.010669</td>\n",
              "      <td>-0.012005</td>\n",
              "      <td>-0.024669</td>\n",
              "      <td>-0.031272</td>\n",
              "      <td>-0.023045</td>\n",
              "      <td>-0.026215</td>\n",
              "      <td>...</td>\n",
              "      <td>-0.097719</td>\n",
              "      <td>-0.129496</td>\n",
              "      <td>0.003143</td>\n",
              "      <td>0.002426</td>\n",
              "      <td>-0.122974</td>\n",
              "      <td>-0.041556</td>\n",
              "      <td>0.012549</td>\n",
              "      <td>-0.032244</td>\n",
              "      <td>-1.159649</td>\n",
              "      <td>-1.160129</td>\n",
              "      <td>-1.373902</td>\n",
              "      <td>-1.356210</td>\n",
              "      <td>-0.301548</td>\n",
              "      <td>-1.404577</td>\n",
              "      <td>-0.975738</td>\n",
              "      <td>-0.975237</td>\n",
              "      <td>-0.168742</td>\n",
              "      <td>-0.192468</td>\n",
              "      <td>-0.099790</td>\n",
              "      <td>-0.182133</td>\n",
              "      <td>-1.015963</td>\n",
              "      <td>-1.016230</td>\n",
              "      <td>-0.968903</td>\n",
              "      <td>-1.421138</td>\n",
              "      <td>-0.453330</td>\n",
              "      <td>-1.375441</td>\n",
              "      <td>-1.116918</td>\n",
              "      <td>-1.116948</td>\n",
              "      <td>-0.216814</td>\n",
              "      <td>0.407161</td>\n",
              "      <td>0.670883</td>\n",
              "      <td>0.439728</td>\n",
              "      <td>-0.979074</td>\n",
              "      <td>-0.978556</td>\n",
              "      <td>-0.098889</td>\n",
              "      <td>-0.106715</td>\n",
              "      <td>-0.131155</td>\n",
              "      <td>-0.183671</td>\n",
              "      <td>-0.120613</td>\n",
              "      <td>-0.119792</td>\n",
              "    </tr>\n",
              "    <tr>\n",
              "      <th>3</th>\n",
              "      <td>232438397</td>\n",
              "      <td>2</td>\n",
              "      <td>1</td>\n",
              "      <td>0.163054</td>\n",
              "      <td>1.963790</td>\n",
              "      <td>-0.646376</td>\n",
              "      <td>12.409294</td>\n",
              "      <td>-0.063725</td>\n",
              "      <td>9.782742</td>\n",
              "      <td>12.414558</td>\n",
              "      <td>-0.163645</td>\n",
              "      <td>-0.115831</td>\n",
              "      <td>0.043598</td>\n",
              "      <td>-0.163905</td>\n",
              "      <td>1.059993</td>\n",
              "      <td>2.397457</td>\n",
              "      <td>-0.063200</td>\n",
              "      <td>-0.013282</td>\n",
              "      <td>4.800240</td>\n",
              "      <td>0.174329</td>\n",
              "      <td>-0.172908</td>\n",
              "      <td>0.619399</td>\n",
              "      <td>-0.243300</td>\n",
              "      <td>-0.243452</td>\n",
              "      <td>-0.139732</td>\n",
              "      <td>-0.146895</td>\n",
              "      <td>-0.079667</td>\n",
              "      <td>-0.155554</td>\n",
              "      <td>0.773847</td>\n",
              "      <td>0.378516</td>\n",
              "      <td>-0.139734</td>\n",
              "      <td>-0.146891</td>\n",
              "      <td>-0.079667</td>\n",
              "      <td>-0.155553</td>\n",
              "      <td>0.773932</td>\n",
              "      <td>0.378593</td>\n",
              "      <td>-0.024669</td>\n",
              "      <td>-0.031271</td>\n",
              "      <td>-0.023044</td>\n",
              "      <td>-0.026215</td>\n",
              "      <td>...</td>\n",
              "      <td>0.019771</td>\n",
              "      <td>-0.119195</td>\n",
              "      <td>0.147881</td>\n",
              "      <td>0.956170</td>\n",
              "      <td>0.759756</td>\n",
              "      <td>-0.041556</td>\n",
              "      <td>-0.188716</td>\n",
              "      <td>0.149949</td>\n",
              "      <td>-0.047722</td>\n",
              "      <td>-0.048171</td>\n",
              "      <td>-1.373723</td>\n",
              "      <td>-1.356131</td>\n",
              "      <td>-0.301754</td>\n",
              "      <td>-1.404445</td>\n",
              "      <td>0.183133</td>\n",
              "      <td>0.182748</td>\n",
              "      <td>-0.163577</td>\n",
              "      <td>-0.456561</td>\n",
              "      <td>-0.424672</td>\n",
              "      <td>-0.436915</td>\n",
              "      <td>0.143001</td>\n",
              "      <td>0.142525</td>\n",
              "      <td>-0.425896</td>\n",
              "      <td>-1.421138</td>\n",
              "      <td>-1.059868</td>\n",
              "      <td>-1.071885</td>\n",
              "      <td>0.185597</td>\n",
              "      <td>0.185492</td>\n",
              "      <td>-0.216814</td>\n",
              "      <td>-0.617907</td>\n",
              "      <td>-0.577099</td>\n",
              "      <td>-0.613614</td>\n",
              "      <td>0.241128</td>\n",
              "      <td>0.241406</td>\n",
              "      <td>1.072793</td>\n",
              "      <td>0.085530</td>\n",
              "      <td>-0.131155</td>\n",
              "      <td>0.677799</td>\n",
              "      <td>-0.120613</td>\n",
              "      <td>-0.119792</td>\n",
              "    </tr>\n",
              "    <tr>\n",
              "      <th>4</th>\n",
              "      <td>230460314</td>\n",
              "      <td>unknown</td>\n",
              "      <td>1</td>\n",
              "      <td>1.011523</td>\n",
              "      <td>-0.081127</td>\n",
              "      <td>-1.201369</td>\n",
              "      <td>1.153668</td>\n",
              "      <td>0.333276</td>\n",
              "      <td>1.312656</td>\n",
              "      <td>-0.061584</td>\n",
              "      <td>-0.163523</td>\n",
              "      <td>0.041399</td>\n",
              "      <td>0.935886</td>\n",
              "      <td>-0.098695</td>\n",
              "      <td>1.203038</td>\n",
              "      <td>0.988902</td>\n",
              "      <td>0.341693</td>\n",
              "      <td>-0.013282</td>\n",
              "      <td>-0.057392</td>\n",
              "      <td>0.058329</td>\n",
              "      <td>-0.032930</td>\n",
              "      <td>-0.042709</td>\n",
              "      <td>0.065455</td>\n",
              "      <td>0.324947</td>\n",
              "      <td>-0.139732</td>\n",
              "      <td>-0.148854</td>\n",
              "      <td>-0.080105</td>\n",
              "      <td>-0.155638</td>\n",
              "      <td>1.313051</td>\n",
              "      <td>1.106965</td>\n",
              "      <td>-0.139734</td>\n",
              "      <td>-0.148850</td>\n",
              "      <td>-0.080104</td>\n",
              "      <td>-0.155638</td>\n",
              "      <td>1.313130</td>\n",
              "      <td>1.106995</td>\n",
              "      <td>-0.024669</td>\n",
              "      <td>-0.031272</td>\n",
              "      <td>-0.023045</td>\n",
              "      <td>-0.026215</td>\n",
              "      <td>...</td>\n",
              "      <td>-0.077909</td>\n",
              "      <td>-0.093120</td>\n",
              "      <td>1.587690</td>\n",
              "      <td>1.586539</td>\n",
              "      <td>-0.101820</td>\n",
              "      <td>0.704558</td>\n",
              "      <td>0.448898</td>\n",
              "      <td>0.659662</td>\n",
              "      <td>0.311091</td>\n",
              "      <td>0.302198</td>\n",
              "      <td>-1.373962</td>\n",
              "      <td>-1.355393</td>\n",
              "      <td>-0.300941</td>\n",
              "      <td>-1.404583</td>\n",
              "      <td>0.064846</td>\n",
              "      <td>-0.035232</td>\n",
              "      <td>-0.168742</td>\n",
              "      <td>-0.442156</td>\n",
              "      <td>-0.416540</td>\n",
              "      <td>-0.418273</td>\n",
              "      <td>0.367605</td>\n",
              "      <td>0.392035</td>\n",
              "      <td>-0.968903</td>\n",
              "      <td>-1.943850</td>\n",
              "      <td>-1.059868</td>\n",
              "      <td>-1.678997</td>\n",
              "      <td>0.185597</td>\n",
              "      <td>0.185492</td>\n",
              "      <td>-0.169472</td>\n",
              "      <td>-0.470592</td>\n",
              "      <td>-0.511871</td>\n",
              "      <td>-0.400422</td>\n",
              "      <td>0.517257</td>\n",
              "      <td>0.579382</td>\n",
              "      <td>0.018279</td>\n",
              "      <td>0.277775</td>\n",
              "      <td>0.326394</td>\n",
              "      <td>1.293750</td>\n",
              "      <td>0.178136</td>\n",
              "      <td>0.179117</td>\n",
              "    </tr>\n",
              "  </tbody>\n",
              "</table>\n",
              "<p>5 rows × 168 columns</p>\n",
              "</div>"
            ],
            "text/plain": [
              "        txId    class  ...  agg_feature_164  agg_feature_165\n",
              "0  230425980  unknown  ...        -0.120613        -0.119792\n",
              "1    5530458  unknown  ...        -0.120613        -0.119792\n",
              "2  232022460  unknown  ...        -0.120613        -0.119792\n",
              "3  232438397        2  ...        -0.120613        -0.119792\n",
              "4  230460314  unknown  ...         0.178136         0.179117\n",
              "\n",
              "[5 rows x 168 columns]"
            ]
          },
          "metadata": {
            "tags": []
          },
          "execution_count": 19
        }
      ]
    },
    {
      "cell_type": "code",
      "metadata": {
        "colab": {
          "base_uri": "https://localhost:8080/"
        },
        "id": "LVTfmewP8M56",
        "outputId": "b9ac04a5-751a-4488-dc55-2711eb9f2c30"
      },
      "source": [
        "merged_df.info()"
      ],
      "execution_count": 20,
      "outputs": [
        {
          "output_type": "stream",
          "text": [
            "<class 'pandas.core.frame.DataFrame'>\n",
            "Int64Index: 203769 entries, 0 to 203768\n",
            "Columns: 168 entries, txId to agg_feature_165\n",
            "dtypes: float64(165), int64(2), object(1)\n",
            "memory usage: 262.7+ MB\n"
          ],
          "name": "stdout"
        }
      ]
    },
    {
      "cell_type": "code",
      "metadata": {
        "id": "_u5Racmh_B4q"
      },
      "source": [
        "merged_df = merged_df[merged_df['class'].isin(['1','2'])]"
      ],
      "execution_count": 21,
      "outputs": []
    },
    {
      "cell_type": "code",
      "metadata": {
        "colab": {
          "base_uri": "https://localhost:8080/"
        },
        "id": "4UKUzKU5Pplt",
        "outputId": "8fd13ce3-fde6-4f4f-dc98-cb1a69a0164a"
      },
      "source": [
        "merged_df['class'].value_counts()"
      ],
      "execution_count": 22,
      "outputs": [
        {
          "output_type": "execute_result",
          "data": {
            "text/plain": [
              "2    42019\n",
              "1     4545\n",
              "Name: class, dtype: int64"
            ]
          },
          "metadata": {
            "tags": []
          },
          "execution_count": 22
        }
      ]
    },
    {
      "cell_type": "markdown",
      "metadata": {
        "id": "N46JfIkM2Pkp"
      },
      "source": [
        "<H3> Feature Selection and Scaling </H3>\n",
        "\n",
        "There are 166 features in this dataset including timestep. We're going to remove timestep and then create two X variables - X and X_LF. X will have ALL the features both local and aggregate features from neighboring nodes. X_LF will contain features ONLY from local node. This is to differentiate and measure how graph/relational information from neighboring nodes influence the model. \n",
        "\n",
        "X - local + aggregate feartures - 165 features\n",
        "X_LF - only local - first 93 features"
      ]
    },
    {
      "cell_type": "code",
      "metadata": {
        "id": "0XFQvInc3SKp"
      },
      "source": [
        "X = merged_df[local_feature_names+aggregate_feature_names]\n",
        "X_LF = merged_df[local_feature_names]\n",
        "y = merged_df[['class']]\n",
        "y = y['class'].apply(lambda x: 0 if x == '2' else 1)"
      ],
      "execution_count": 23,
      "outputs": []
    },
    {
      "cell_type": "code",
      "metadata": {
        "colab": {
          "base_uri": "https://localhost:8080/"
        },
        "id": "fTWeHiWP6BX8",
        "outputId": "0fb7f762-fdb8-490c-f5c8-99fd3674ba35"
      },
      "source": [
        "X.shape"
      ],
      "execution_count": 24,
      "outputs": [
        {
          "output_type": "execute_result",
          "data": {
            "text/plain": [
              "(46564, 165)"
            ]
          },
          "metadata": {
            "tags": []
          },
          "execution_count": 24
        }
      ]
    },
    {
      "cell_type": "code",
      "metadata": {
        "colab": {
          "base_uri": "https://localhost:8080/"
        },
        "id": "cgXMGdKLAKLS",
        "outputId": "4d0b5e1c-d43b-4627-f0d5-c4476b5f3142"
      },
      "source": [
        "len(y)"
      ],
      "execution_count": 25,
      "outputs": [
        {
          "output_type": "execute_result",
          "data": {
            "text/plain": [
              "46564"
            ]
          },
          "metadata": {
            "tags": []
          },
          "execution_count": 25
        }
      ]
    },
    {
      "cell_type": "code",
      "metadata": {
        "colab": {
          "base_uri": "https://localhost:8080/"
        },
        "id": "XIoXvd0sBBsm",
        "outputId": "a25f3ac2-2ea8-4c8c-f773-c5ea668ce668"
      },
      "source": [
        "y.sum()"
      ],
      "execution_count": 26,
      "outputs": [
        {
          "output_type": "execute_result",
          "data": {
            "text/plain": [
              "4545"
            ]
          },
          "metadata": {
            "tags": []
          },
          "execution_count": 26
        }
      ]
    },
    {
      "cell_type": "code",
      "metadata": {
        "colab": {
          "base_uri": "https://localhost:8080/",
          "height": 244
        },
        "id": "pY4V0fJW6DAb",
        "outputId": "cc9a0fa8-348c-4a35-e2d3-867c2dbccf38"
      },
      "source": [
        "X.head()"
      ],
      "execution_count": 27,
      "outputs": [
        {
          "output_type": "execute_result",
          "data": {
            "text/html": [
              "<div>\n",
              "<style scoped>\n",
              "    .dataframe tbody tr th:only-of-type {\n",
              "        vertical-align: middle;\n",
              "    }\n",
              "\n",
              "    .dataframe tbody tr th {\n",
              "        vertical-align: top;\n",
              "    }\n",
              "\n",
              "    .dataframe thead th {\n",
              "        text-align: right;\n",
              "    }\n",
              "</style>\n",
              "<table border=\"1\" class=\"dataframe\">\n",
              "  <thead>\n",
              "    <tr style=\"text-align: right;\">\n",
              "      <th></th>\n",
              "      <th>local_feature_1</th>\n",
              "      <th>local_feature_2</th>\n",
              "      <th>local_feature_3</th>\n",
              "      <th>local_feature_4</th>\n",
              "      <th>local_feature_5</th>\n",
              "      <th>local_feature_6</th>\n",
              "      <th>local_feature_7</th>\n",
              "      <th>local_feature_8</th>\n",
              "      <th>local_feature_9</th>\n",
              "      <th>local_feature_10</th>\n",
              "      <th>local_feature_11</th>\n",
              "      <th>local_feature_12</th>\n",
              "      <th>local_feature_13</th>\n",
              "      <th>local_feature_14</th>\n",
              "      <th>local_feature_15</th>\n",
              "      <th>local_feature_16</th>\n",
              "      <th>local_feature_17</th>\n",
              "      <th>local_feature_18</th>\n",
              "      <th>local_feature_19</th>\n",
              "      <th>local_feature_20</th>\n",
              "      <th>local_feature_21</th>\n",
              "      <th>local_feature_22</th>\n",
              "      <th>local_feature_23</th>\n",
              "      <th>local_feature_24</th>\n",
              "      <th>local_feature_25</th>\n",
              "      <th>local_feature_26</th>\n",
              "      <th>local_feature_27</th>\n",
              "      <th>local_feature_28</th>\n",
              "      <th>local_feature_29</th>\n",
              "      <th>local_feature_30</th>\n",
              "      <th>local_feature_31</th>\n",
              "      <th>local_feature_32</th>\n",
              "      <th>local_feature_33</th>\n",
              "      <th>local_feature_34</th>\n",
              "      <th>local_feature_35</th>\n",
              "      <th>local_feature_36</th>\n",
              "      <th>local_feature_37</th>\n",
              "      <th>local_feature_38</th>\n",
              "      <th>local_feature_39</th>\n",
              "      <th>local_feature_40</th>\n",
              "      <th>...</th>\n",
              "      <th>agg_feature_126</th>\n",
              "      <th>agg_feature_127</th>\n",
              "      <th>agg_feature_128</th>\n",
              "      <th>agg_feature_129</th>\n",
              "      <th>agg_feature_130</th>\n",
              "      <th>agg_feature_131</th>\n",
              "      <th>agg_feature_132</th>\n",
              "      <th>agg_feature_133</th>\n",
              "      <th>agg_feature_134</th>\n",
              "      <th>agg_feature_135</th>\n",
              "      <th>agg_feature_136</th>\n",
              "      <th>agg_feature_137</th>\n",
              "      <th>agg_feature_138</th>\n",
              "      <th>agg_feature_139</th>\n",
              "      <th>agg_feature_140</th>\n",
              "      <th>agg_feature_141</th>\n",
              "      <th>agg_feature_142</th>\n",
              "      <th>agg_feature_143</th>\n",
              "      <th>agg_feature_144</th>\n",
              "      <th>agg_feature_145</th>\n",
              "      <th>agg_feature_146</th>\n",
              "      <th>agg_feature_147</th>\n",
              "      <th>agg_feature_148</th>\n",
              "      <th>agg_feature_149</th>\n",
              "      <th>agg_feature_150</th>\n",
              "      <th>agg_feature_151</th>\n",
              "      <th>agg_feature_152</th>\n",
              "      <th>agg_feature_153</th>\n",
              "      <th>agg_feature_154</th>\n",
              "      <th>agg_feature_155</th>\n",
              "      <th>agg_feature_156</th>\n",
              "      <th>agg_feature_157</th>\n",
              "      <th>agg_feature_158</th>\n",
              "      <th>agg_feature_159</th>\n",
              "      <th>agg_feature_160</th>\n",
              "      <th>agg_feature_161</th>\n",
              "      <th>agg_feature_162</th>\n",
              "      <th>agg_feature_163</th>\n",
              "      <th>agg_feature_164</th>\n",
              "      <th>agg_feature_165</th>\n",
              "    </tr>\n",
              "  </thead>\n",
              "  <tbody>\n",
              "    <tr>\n",
              "      <th>3</th>\n",
              "      <td>0.163054</td>\n",
              "      <td>1.963790</td>\n",
              "      <td>-0.646376</td>\n",
              "      <td>12.409294</td>\n",
              "      <td>-0.063725</td>\n",
              "      <td>9.782742</td>\n",
              "      <td>12.414558</td>\n",
              "      <td>-0.163645</td>\n",
              "      <td>-0.115831</td>\n",
              "      <td>0.043598</td>\n",
              "      <td>-0.163905</td>\n",
              "      <td>1.059993</td>\n",
              "      <td>2.397457</td>\n",
              "      <td>-0.063200</td>\n",
              "      <td>-0.013282</td>\n",
              "      <td>4.800240</td>\n",
              "      <td>0.174329</td>\n",
              "      <td>-0.172908</td>\n",
              "      <td>0.619399</td>\n",
              "      <td>-0.243300</td>\n",
              "      <td>-0.243452</td>\n",
              "      <td>-0.139732</td>\n",
              "      <td>-0.146895</td>\n",
              "      <td>-0.079667</td>\n",
              "      <td>-0.155554</td>\n",
              "      <td>0.773847</td>\n",
              "      <td>0.378516</td>\n",
              "      <td>-0.139734</td>\n",
              "      <td>-0.146891</td>\n",
              "      <td>-0.079667</td>\n",
              "      <td>-0.155553</td>\n",
              "      <td>0.773932</td>\n",
              "      <td>0.378593</td>\n",
              "      <td>-0.024669</td>\n",
              "      <td>-0.031271</td>\n",
              "      <td>-0.023044</td>\n",
              "      <td>-0.026215</td>\n",
              "      <td>0.101008</td>\n",
              "      <td>0.026315</td>\n",
              "      <td>-0.227215</td>\n",
              "      <td>...</td>\n",
              "      <td>0.019771</td>\n",
              "      <td>-0.119195</td>\n",
              "      <td>0.147881</td>\n",
              "      <td>0.956170</td>\n",
              "      <td>0.759756</td>\n",
              "      <td>-0.041556</td>\n",
              "      <td>-0.188716</td>\n",
              "      <td>0.149949</td>\n",
              "      <td>-0.047722</td>\n",
              "      <td>-0.048171</td>\n",
              "      <td>-1.373723</td>\n",
              "      <td>-1.356131</td>\n",
              "      <td>-0.301754</td>\n",
              "      <td>-1.404445</td>\n",
              "      <td>0.183133</td>\n",
              "      <td>0.182748</td>\n",
              "      <td>-0.163577</td>\n",
              "      <td>-0.456561</td>\n",
              "      <td>-0.424672</td>\n",
              "      <td>-0.436915</td>\n",
              "      <td>0.143001</td>\n",
              "      <td>0.142525</td>\n",
              "      <td>-0.425896</td>\n",
              "      <td>-1.421138</td>\n",
              "      <td>-1.059868</td>\n",
              "      <td>-1.071885</td>\n",
              "      <td>0.185597</td>\n",
              "      <td>0.185492</td>\n",
              "      <td>-0.216814</td>\n",
              "      <td>-0.617907</td>\n",
              "      <td>-0.577099</td>\n",
              "      <td>-0.613614</td>\n",
              "      <td>0.241128</td>\n",
              "      <td>0.241406</td>\n",
              "      <td>1.072793</td>\n",
              "      <td>0.085530</td>\n",
              "      <td>-0.131155</td>\n",
              "      <td>0.677799</td>\n",
              "      <td>-0.120613</td>\n",
              "      <td>-0.119792</td>\n",
              "    </tr>\n",
              "    <tr>\n",
              "      <th>9</th>\n",
              "      <td>-0.005027</td>\n",
              "      <td>0.578941</td>\n",
              "      <td>-0.091383</td>\n",
              "      <td>4.380281</td>\n",
              "      <td>-0.063725</td>\n",
              "      <td>4.667146</td>\n",
              "      <td>0.851305</td>\n",
              "      <td>-0.163645</td>\n",
              "      <td>-0.144554</td>\n",
              "      <td>0.020069</td>\n",
              "      <td>-0.163135</td>\n",
              "      <td>1.696691</td>\n",
              "      <td>2.414968</td>\n",
              "      <td>-0.063200</td>\n",
              "      <td>-0.013282</td>\n",
              "      <td>2.370512</td>\n",
              "      <td>0.001525</td>\n",
              "      <td>-0.172908</td>\n",
              "      <td>0.221419</td>\n",
              "      <td>-0.243300</td>\n",
              "      <td>-0.243452</td>\n",
              "      <td>-0.139732</td>\n",
              "      <td>-0.147416</td>\n",
              "      <td>-0.079747</td>\n",
              "      <td>-0.155559</td>\n",
              "      <td>0.665165</td>\n",
              "      <td>1.037078</td>\n",
              "      <td>-0.139734</td>\n",
              "      <td>-0.147411</td>\n",
              "      <td>-0.079746</td>\n",
              "      <td>-0.155559</td>\n",
              "      <td>0.665251</td>\n",
              "      <td>1.037113</td>\n",
              "      <td>-0.024669</td>\n",
              "      <td>-0.031272</td>\n",
              "      <td>-0.023045</td>\n",
              "      <td>-0.026215</td>\n",
              "      <td>-0.973502</td>\n",
              "      <td>-0.973372</td>\n",
              "      <td>-0.227159</td>\n",
              "      <td>...</td>\n",
              "      <td>-0.086194</td>\n",
              "      <td>-0.124629</td>\n",
              "      <td>0.525309</td>\n",
              "      <td>0.617474</td>\n",
              "      <td>0.317264</td>\n",
              "      <td>-0.121020</td>\n",
              "      <td>-0.188716</td>\n",
              "      <td>-0.032710</td>\n",
              "      <td>-0.047722</td>\n",
              "      <td>-0.048171</td>\n",
              "      <td>-1.373902</td>\n",
              "      <td>-1.356289</td>\n",
              "      <td>-0.301754</td>\n",
              "      <td>-1.404621</td>\n",
              "      <td>0.183133</td>\n",
              "      <td>0.182748</td>\n",
              "      <td>-0.163577</td>\n",
              "      <td>-0.456561</td>\n",
              "      <td>-0.424672</td>\n",
              "      <td>-0.436915</td>\n",
              "      <td>0.143001</td>\n",
              "      <td>0.142525</td>\n",
              "      <td>-0.425896</td>\n",
              "      <td>-1.421138</td>\n",
              "      <td>-1.059868</td>\n",
              "      <td>-1.071885</td>\n",
              "      <td>0.185597</td>\n",
              "      <td>0.185492</td>\n",
              "      <td>-0.216814</td>\n",
              "      <td>-0.617907</td>\n",
              "      <td>-0.577099</td>\n",
              "      <td>-0.613614</td>\n",
              "      <td>0.241128</td>\n",
              "      <td>0.241406</td>\n",
              "      <td>0.604120</td>\n",
              "      <td>0.008632</td>\n",
              "      <td>-0.131155</td>\n",
              "      <td>0.333211</td>\n",
              "      <td>-0.120613</td>\n",
              "      <td>-0.119792</td>\n",
              "    </tr>\n",
              "    <tr>\n",
              "      <th>10</th>\n",
              "      <td>-0.147852</td>\n",
              "      <td>-0.184668</td>\n",
              "      <td>-1.201369</td>\n",
              "      <td>-0.121970</td>\n",
              "      <td>-0.043875</td>\n",
              "      <td>-0.113002</td>\n",
              "      <td>-0.061584</td>\n",
              "      <td>-0.137933</td>\n",
              "      <td>-0.144108</td>\n",
              "      <td>-0.049707</td>\n",
              "      <td>-0.140266</td>\n",
              "      <td>-0.028741</td>\n",
              "      <td>-0.035391</td>\n",
              "      <td>-0.042955</td>\n",
              "      <td>-0.013282</td>\n",
              "      <td>-0.006754</td>\n",
              "      <td>-0.148916</td>\n",
              "      <td>-0.151494</td>\n",
              "      <td>-0.146513</td>\n",
              "      <td>0.887058</td>\n",
              "      <td>0.884557</td>\n",
              "      <td>-0.139721</td>\n",
              "      <td>-0.148905</td>\n",
              "      <td>-0.080147</td>\n",
              "      <td>-0.155653</td>\n",
              "      <td>-0.010763</td>\n",
              "      <td>-0.012107</td>\n",
              "      <td>-0.139723</td>\n",
              "      <td>-0.148901</td>\n",
              "      <td>-0.080147</td>\n",
              "      <td>-0.155653</td>\n",
              "      <td>-0.010669</td>\n",
              "      <td>-0.012005</td>\n",
              "      <td>-0.024669</td>\n",
              "      <td>-0.031272</td>\n",
              "      <td>-0.023045</td>\n",
              "      <td>-0.026215</td>\n",
              "      <td>0.001428</td>\n",
              "      <td>0.001483</td>\n",
              "      <td>-0.227215</td>\n",
              "      <td>...</td>\n",
              "      <td>-0.097719</td>\n",
              "      <td>-0.127462</td>\n",
              "      <td>0.003143</td>\n",
              "      <td>0.002426</td>\n",
              "      <td>-0.115680</td>\n",
              "      <td>-0.190199</td>\n",
              "      <td>-0.177836</td>\n",
              "      <td>-0.201578</td>\n",
              "      <td>1.064205</td>\n",
              "      <td>1.063787</td>\n",
              "      <td>-1.373932</td>\n",
              "      <td>-1.356183</td>\n",
              "      <td>-0.301411</td>\n",
              "      <td>-1.404577</td>\n",
              "      <td>-0.975738</td>\n",
              "      <td>-0.975237</td>\n",
              "      <td>-0.168742</td>\n",
              "      <td>-0.445357</td>\n",
              "      <td>-0.409015</td>\n",
              "      <td>-0.427594</td>\n",
              "      <td>-1.015963</td>\n",
              "      <td>-1.016230</td>\n",
              "      <td>-0.968903</td>\n",
              "      <td>-1.943850</td>\n",
              "      <td>-1.059868</td>\n",
              "      <td>-1.678997</td>\n",
              "      <td>0.185597</td>\n",
              "      <td>0.185492</td>\n",
              "      <td>-0.216814</td>\n",
              "      <td>-0.617907</td>\n",
              "      <td>-0.577099</td>\n",
              "      <td>-0.613614</td>\n",
              "      <td>0.241128</td>\n",
              "      <td>0.241406</td>\n",
              "      <td>0.018279</td>\n",
              "      <td>-0.087490</td>\n",
              "      <td>-0.131155</td>\n",
              "      <td>-0.097524</td>\n",
              "      <td>-0.120613</td>\n",
              "      <td>-0.119792</td>\n",
              "    </tr>\n",
              "    <tr>\n",
              "      <th>11</th>\n",
              "      <td>-0.151357</td>\n",
              "      <td>-0.184668</td>\n",
              "      <td>-1.201369</td>\n",
              "      <td>-0.121970</td>\n",
              "      <td>-0.043875</td>\n",
              "      <td>-0.113002</td>\n",
              "      <td>-0.061584</td>\n",
              "      <td>-0.141519</td>\n",
              "      <td>-0.147643</td>\n",
              "      <td>-0.049707</td>\n",
              "      <td>-0.143847</td>\n",
              "      <td>-0.028741</td>\n",
              "      <td>-0.035391</td>\n",
              "      <td>-0.042955</td>\n",
              "      <td>-0.013282</td>\n",
              "      <td>-0.038424</td>\n",
              "      <td>-0.150266</td>\n",
              "      <td>-0.150457</td>\n",
              "      <td>-0.150661</td>\n",
              "      <td>0.887058</td>\n",
              "      <td>0.884557</td>\n",
              "      <td>-0.139722</td>\n",
              "      <td>-0.148906</td>\n",
              "      <td>-0.080147</td>\n",
              "      <td>-0.155654</td>\n",
              "      <td>-0.010763</td>\n",
              "      <td>-0.012107</td>\n",
              "      <td>-0.139724</td>\n",
              "      <td>-0.148902</td>\n",
              "      <td>-0.080147</td>\n",
              "      <td>-0.155654</td>\n",
              "      <td>-0.010669</td>\n",
              "      <td>-0.012005</td>\n",
              "      <td>-0.024669</td>\n",
              "      <td>-0.031272</td>\n",
              "      <td>-0.023045</td>\n",
              "      <td>-0.026215</td>\n",
              "      <td>0.001428</td>\n",
              "      <td>0.001483</td>\n",
              "      <td>-0.227215</td>\n",
              "      <td>...</td>\n",
              "      <td>-0.097719</td>\n",
              "      <td>-0.127462</td>\n",
              "      <td>0.003143</td>\n",
              "      <td>0.002426</td>\n",
              "      <td>-0.107516</td>\n",
              "      <td>-0.190820</td>\n",
              "      <td>-0.180486</td>\n",
              "      <td>-0.200607</td>\n",
              "      <td>1.064205</td>\n",
              "      <td>1.063787</td>\n",
              "      <td>-1.373902</td>\n",
              "      <td>-1.348835</td>\n",
              "      <td>-0.282308</td>\n",
              "      <td>-1.400475</td>\n",
              "      <td>-0.975738</td>\n",
              "      <td>-0.975237</td>\n",
              "      <td>-0.168742</td>\n",
              "      <td>-0.454961</td>\n",
              "      <td>-0.420758</td>\n",
              "      <td>-0.436915</td>\n",
              "      <td>-1.015963</td>\n",
              "      <td>-1.016230</td>\n",
              "      <td>-0.968903</td>\n",
              "      <td>-1.943850</td>\n",
              "      <td>-1.059868</td>\n",
              "      <td>-1.678997</td>\n",
              "      <td>0.185597</td>\n",
              "      <td>0.185492</td>\n",
              "      <td>-0.216814</td>\n",
              "      <td>-0.587217</td>\n",
              "      <td>-0.539735</td>\n",
              "      <td>-0.582077</td>\n",
              "      <td>-0.979074</td>\n",
              "      <td>-0.978556</td>\n",
              "      <td>0.018279</td>\n",
              "      <td>-0.087490</td>\n",
              "      <td>-0.131155</td>\n",
              "      <td>-0.097524</td>\n",
              "      <td>-0.120613</td>\n",
              "      <td>-0.119792</td>\n",
              "    </tr>\n",
              "    <tr>\n",
              "      <th>16</th>\n",
              "      <td>-0.172306</td>\n",
              "      <td>-0.184668</td>\n",
              "      <td>-1.201369</td>\n",
              "      <td>0.028105</td>\n",
              "      <td>-0.043875</td>\n",
              "      <td>-0.029140</td>\n",
              "      <td>0.242712</td>\n",
              "      <td>-0.163640</td>\n",
              "      <td>-0.169115</td>\n",
              "      <td>-0.047227</td>\n",
              "      <td>-0.165719</td>\n",
              "      <td>-2.222844</td>\n",
              "      <td>-2.486106</td>\n",
              "      <td>-0.042955</td>\n",
              "      <td>-0.013282</td>\n",
              "      <td>-0.057321</td>\n",
              "      <td>-0.170460</td>\n",
              "      <td>-0.172121</td>\n",
              "      <td>-0.175463</td>\n",
              "      <td>-1.373657</td>\n",
              "      <td>-1.371460</td>\n",
              "      <td>-0.139732</td>\n",
              "      <td>-0.148846</td>\n",
              "      <td>-0.080069</td>\n",
              "      <td>-0.155603</td>\n",
              "      <td>-2.340501</td>\n",
              "      <td>-2.330877</td>\n",
              "      <td>-0.139734</td>\n",
              "      <td>-0.148841</td>\n",
              "      <td>-0.080069</td>\n",
              "      <td>-0.155603</td>\n",
              "      <td>-2.340378</td>\n",
              "      <td>-2.330626</td>\n",
              "      <td>-0.024669</td>\n",
              "      <td>-0.031272</td>\n",
              "      <td>-0.023045</td>\n",
              "      <td>-0.026215</td>\n",
              "      <td>0.001428</td>\n",
              "      <td>0.001483</td>\n",
              "      <td>-0.227215</td>\n",
              "      <td>...</td>\n",
              "      <td>21.184295</td>\n",
              "      <td>12.256893</td>\n",
              "      <td>-1.512746</td>\n",
              "      <td>-1.934712</td>\n",
              "      <td>-0.123108</td>\n",
              "      <td>-0.198154</td>\n",
              "      <td>-0.186243</td>\n",
              "      <td>-0.212254</td>\n",
              "      <td>1.064205</td>\n",
              "      <td>1.063787</td>\n",
              "      <td>-1.373723</td>\n",
              "      <td>-1.355051</td>\n",
              "      <td>-0.298937</td>\n",
              "      <td>-1.403845</td>\n",
              "      <td>1.342003</td>\n",
              "      <td>1.340733</td>\n",
              "      <td>-0.168742</td>\n",
              "      <td>-0.458162</td>\n",
              "      <td>-0.424672</td>\n",
              "      <td>-0.440022</td>\n",
              "      <td>0.143001</td>\n",
              "      <td>0.142525</td>\n",
              "      <td>-0.968903</td>\n",
              "      <td>-1.943850</td>\n",
              "      <td>-1.059868</td>\n",
              "      <td>-1.678997</td>\n",
              "      <td>0.185597</td>\n",
              "      <td>0.185492</td>\n",
              "      <td>-0.193143</td>\n",
              "      <td>-0.611769</td>\n",
              "      <td>-0.577099</td>\n",
              "      <td>-0.600999</td>\n",
              "      <td>0.241128</td>\n",
              "      <td>0.241406</td>\n",
              "      <td>0.018279</td>\n",
              "      <td>-0.068266</td>\n",
              "      <td>-0.084674</td>\n",
              "      <td>-0.054450</td>\n",
              "      <td>-1.760926</td>\n",
              "      <td>-1.760984</td>\n",
              "    </tr>\n",
              "  </tbody>\n",
              "</table>\n",
              "<p>5 rows × 165 columns</p>\n",
              "</div>"
            ],
            "text/plain": [
              "    local_feature_1  local_feature_2  ...  agg_feature_164  agg_feature_165\n",
              "3          0.163054         1.963790  ...        -0.120613        -0.119792\n",
              "9         -0.005027         0.578941  ...        -0.120613        -0.119792\n",
              "10        -0.147852        -0.184668  ...        -0.120613        -0.119792\n",
              "11        -0.151357        -0.184668  ...        -0.120613        -0.119792\n",
              "16        -0.172306        -0.184668  ...        -1.760926        -1.760984\n",
              "\n",
              "[5 rows x 165 columns]"
            ]
          },
          "metadata": {
            "tags": []
          },
          "execution_count": 27
        }
      ]
    },
    {
      "cell_type": "code",
      "metadata": {
        "colab": {
          "base_uri": "https://localhost:8080/",
          "height": 244
        },
        "id": "UKuY3Hmk6H8E",
        "outputId": "fc9ad23a-7cbe-488f-dd46-7af8db34da2c"
      },
      "source": [
        "X_LF.head()"
      ],
      "execution_count": 28,
      "outputs": [
        {
          "output_type": "execute_result",
          "data": {
            "text/html": [
              "<div>\n",
              "<style scoped>\n",
              "    .dataframe tbody tr th:only-of-type {\n",
              "        vertical-align: middle;\n",
              "    }\n",
              "\n",
              "    .dataframe tbody tr th {\n",
              "        vertical-align: top;\n",
              "    }\n",
              "\n",
              "    .dataframe thead th {\n",
              "        text-align: right;\n",
              "    }\n",
              "</style>\n",
              "<table border=\"1\" class=\"dataframe\">\n",
              "  <thead>\n",
              "    <tr style=\"text-align: right;\">\n",
              "      <th></th>\n",
              "      <th>local_feature_1</th>\n",
              "      <th>local_feature_2</th>\n",
              "      <th>local_feature_3</th>\n",
              "      <th>local_feature_4</th>\n",
              "      <th>local_feature_5</th>\n",
              "      <th>local_feature_6</th>\n",
              "      <th>local_feature_7</th>\n",
              "      <th>local_feature_8</th>\n",
              "      <th>local_feature_9</th>\n",
              "      <th>local_feature_10</th>\n",
              "      <th>local_feature_11</th>\n",
              "      <th>local_feature_12</th>\n",
              "      <th>local_feature_13</th>\n",
              "      <th>local_feature_14</th>\n",
              "      <th>local_feature_15</th>\n",
              "      <th>local_feature_16</th>\n",
              "      <th>local_feature_17</th>\n",
              "      <th>local_feature_18</th>\n",
              "      <th>local_feature_19</th>\n",
              "      <th>local_feature_20</th>\n",
              "      <th>local_feature_21</th>\n",
              "      <th>local_feature_22</th>\n",
              "      <th>local_feature_23</th>\n",
              "      <th>local_feature_24</th>\n",
              "      <th>local_feature_25</th>\n",
              "      <th>local_feature_26</th>\n",
              "      <th>local_feature_27</th>\n",
              "      <th>local_feature_28</th>\n",
              "      <th>local_feature_29</th>\n",
              "      <th>local_feature_30</th>\n",
              "      <th>local_feature_31</th>\n",
              "      <th>local_feature_32</th>\n",
              "      <th>local_feature_33</th>\n",
              "      <th>local_feature_34</th>\n",
              "      <th>local_feature_35</th>\n",
              "      <th>local_feature_36</th>\n",
              "      <th>local_feature_37</th>\n",
              "      <th>local_feature_38</th>\n",
              "      <th>local_feature_39</th>\n",
              "      <th>local_feature_40</th>\n",
              "      <th>...</th>\n",
              "      <th>local_feature_54</th>\n",
              "      <th>local_feature_55</th>\n",
              "      <th>local_feature_56</th>\n",
              "      <th>local_feature_57</th>\n",
              "      <th>local_feature_58</th>\n",
              "      <th>local_feature_59</th>\n",
              "      <th>local_feature_60</th>\n",
              "      <th>local_feature_61</th>\n",
              "      <th>local_feature_62</th>\n",
              "      <th>local_feature_63</th>\n",
              "      <th>local_feature_64</th>\n",
              "      <th>local_feature_65</th>\n",
              "      <th>local_feature_66</th>\n",
              "      <th>local_feature_67</th>\n",
              "      <th>local_feature_68</th>\n",
              "      <th>local_feature_69</th>\n",
              "      <th>local_feature_70</th>\n",
              "      <th>local_feature_71</th>\n",
              "      <th>local_feature_72</th>\n",
              "      <th>local_feature_73</th>\n",
              "      <th>local_feature_74</th>\n",
              "      <th>local_feature_75</th>\n",
              "      <th>local_feature_76</th>\n",
              "      <th>local_feature_77</th>\n",
              "      <th>local_feature_78</th>\n",
              "      <th>local_feature_79</th>\n",
              "      <th>local_feature_80</th>\n",
              "      <th>local_feature_81</th>\n",
              "      <th>local_feature_82</th>\n",
              "      <th>local_feature_83</th>\n",
              "      <th>local_feature_84</th>\n",
              "      <th>local_feature_85</th>\n",
              "      <th>local_feature_86</th>\n",
              "      <th>local_feature_87</th>\n",
              "      <th>local_feature_88</th>\n",
              "      <th>local_feature_89</th>\n",
              "      <th>local_feature_90</th>\n",
              "      <th>local_feature_91</th>\n",
              "      <th>local_feature_92</th>\n",
              "      <th>local_feature_93</th>\n",
              "    </tr>\n",
              "  </thead>\n",
              "  <tbody>\n",
              "    <tr>\n",
              "      <th>3</th>\n",
              "      <td>0.163054</td>\n",
              "      <td>1.963790</td>\n",
              "      <td>-0.646376</td>\n",
              "      <td>12.409294</td>\n",
              "      <td>-0.063725</td>\n",
              "      <td>9.782742</td>\n",
              "      <td>12.414558</td>\n",
              "      <td>-0.163645</td>\n",
              "      <td>-0.115831</td>\n",
              "      <td>0.043598</td>\n",
              "      <td>-0.163905</td>\n",
              "      <td>1.059993</td>\n",
              "      <td>2.397457</td>\n",
              "      <td>-0.063200</td>\n",
              "      <td>-0.013282</td>\n",
              "      <td>4.800240</td>\n",
              "      <td>0.174329</td>\n",
              "      <td>-0.172908</td>\n",
              "      <td>0.619399</td>\n",
              "      <td>-0.243300</td>\n",
              "      <td>-0.243452</td>\n",
              "      <td>-0.139732</td>\n",
              "      <td>-0.146895</td>\n",
              "      <td>-0.079667</td>\n",
              "      <td>-0.155554</td>\n",
              "      <td>0.773847</td>\n",
              "      <td>0.378516</td>\n",
              "      <td>-0.139734</td>\n",
              "      <td>-0.146891</td>\n",
              "      <td>-0.079667</td>\n",
              "      <td>-0.155553</td>\n",
              "      <td>0.773932</td>\n",
              "      <td>0.378593</td>\n",
              "      <td>-0.024669</td>\n",
              "      <td>-0.031271</td>\n",
              "      <td>-0.023044</td>\n",
              "      <td>-0.026215</td>\n",
              "      <td>0.101008</td>\n",
              "      <td>0.026315</td>\n",
              "      <td>-0.227215</td>\n",
              "      <td>...</td>\n",
              "      <td>4.346640</td>\n",
              "      <td>1.777963</td>\n",
              "      <td>-1.451545</td>\n",
              "      <td>-1.530250</td>\n",
              "      <td>4.628683</td>\n",
              "      <td>0.513804</td>\n",
              "      <td>-0.163126</td>\n",
              "      <td>1.208220</td>\n",
              "      <td>-0.196435</td>\n",
              "      <td>-0.196189</td>\n",
              "      <td>4.629650</td>\n",
              "      <td>0.513869</td>\n",
              "      <td>-0.163115</td>\n",
              "      <td>1.208278</td>\n",
              "      <td>-0.196409</td>\n",
              "      <td>-0.196133</td>\n",
              "      <td>-0.017032</td>\n",
              "      <td>-0.030026</td>\n",
              "      <td>-0.01764</td>\n",
              "      <td>-0.015071</td>\n",
              "      <td>-0.140763</td>\n",
              "      <td>-0.140335</td>\n",
              "      <td>4.313295</td>\n",
              "      <td>0.216750</td>\n",
              "      <td>-0.250574</td>\n",
              "      <td>0.707151</td>\n",
              "      <td>-0.169119</td>\n",
              "      <td>-0.167165</td>\n",
              "      <td>6.220011</td>\n",
              "      <td>0.216948</td>\n",
              "      <td>-0.255168</td>\n",
              "      <td>0.717108</td>\n",
              "      <td>-0.187191</td>\n",
              "      <td>-0.185274</td>\n",
              "      <td>3.991587</td>\n",
              "      <td>0.810879</td>\n",
              "      <td>-0.694235</td>\n",
              "      <td>2.084651</td>\n",
              "      <td>0.025308</td>\n",
              "      <td>0.025217</td>\n",
              "    </tr>\n",
              "    <tr>\n",
              "      <th>9</th>\n",
              "      <td>-0.005027</td>\n",
              "      <td>0.578941</td>\n",
              "      <td>-0.091383</td>\n",
              "      <td>4.380281</td>\n",
              "      <td>-0.063725</td>\n",
              "      <td>4.667146</td>\n",
              "      <td>0.851305</td>\n",
              "      <td>-0.163645</td>\n",
              "      <td>-0.144554</td>\n",
              "      <td>0.020069</td>\n",
              "      <td>-0.163135</td>\n",
              "      <td>1.696691</td>\n",
              "      <td>2.414968</td>\n",
              "      <td>-0.063200</td>\n",
              "      <td>-0.013282</td>\n",
              "      <td>2.370512</td>\n",
              "      <td>0.001525</td>\n",
              "      <td>-0.172908</td>\n",
              "      <td>0.221419</td>\n",
              "      <td>-0.243300</td>\n",
              "      <td>-0.243452</td>\n",
              "      <td>-0.139732</td>\n",
              "      <td>-0.147416</td>\n",
              "      <td>-0.079747</td>\n",
              "      <td>-0.155559</td>\n",
              "      <td>0.665165</td>\n",
              "      <td>1.037078</td>\n",
              "      <td>-0.139734</td>\n",
              "      <td>-0.147411</td>\n",
              "      <td>-0.079746</td>\n",
              "      <td>-0.155559</td>\n",
              "      <td>0.665251</td>\n",
              "      <td>1.037113</td>\n",
              "      <td>-0.024669</td>\n",
              "      <td>-0.031272</td>\n",
              "      <td>-0.023045</td>\n",
              "      <td>-0.026215</td>\n",
              "      <td>-0.973502</td>\n",
              "      <td>-0.973372</td>\n",
              "      <td>-0.227159</td>\n",
              "      <td>...</td>\n",
              "      <td>3.633753</td>\n",
              "      <td>1.349956</td>\n",
              "      <td>-1.155577</td>\n",
              "      <td>-1.024980</td>\n",
              "      <td>4.628683</td>\n",
              "      <td>0.513804</td>\n",
              "      <td>-0.163126</td>\n",
              "      <td>1.208220</td>\n",
              "      <td>-0.196435</td>\n",
              "      <td>-0.196189</td>\n",
              "      <td>4.629650</td>\n",
              "      <td>0.513869</td>\n",
              "      <td>-0.163115</td>\n",
              "      <td>1.208278</td>\n",
              "      <td>-0.196409</td>\n",
              "      <td>-0.196133</td>\n",
              "      <td>-0.017032</td>\n",
              "      <td>-0.030026</td>\n",
              "      <td>-0.01764</td>\n",
              "      <td>-0.015071</td>\n",
              "      <td>-0.140763</td>\n",
              "      <td>-0.140335</td>\n",
              "      <td>4.313295</td>\n",
              "      <td>0.216750</td>\n",
              "      <td>-0.250574</td>\n",
              "      <td>0.707151</td>\n",
              "      <td>-0.169119</td>\n",
              "      <td>-0.167165</td>\n",
              "      <td>6.220011</td>\n",
              "      <td>0.216948</td>\n",
              "      <td>-0.255168</td>\n",
              "      <td>0.717108</td>\n",
              "      <td>-0.187191</td>\n",
              "      <td>-0.185274</td>\n",
              "      <td>3.991587</td>\n",
              "      <td>0.810879</td>\n",
              "      <td>-0.694235</td>\n",
              "      <td>2.084651</td>\n",
              "      <td>0.025308</td>\n",
              "      <td>0.025217</td>\n",
              "    </tr>\n",
              "    <tr>\n",
              "      <th>10</th>\n",
              "      <td>-0.147852</td>\n",
              "      <td>-0.184668</td>\n",
              "      <td>-1.201369</td>\n",
              "      <td>-0.121970</td>\n",
              "      <td>-0.043875</td>\n",
              "      <td>-0.113002</td>\n",
              "      <td>-0.061584</td>\n",
              "      <td>-0.137933</td>\n",
              "      <td>-0.144108</td>\n",
              "      <td>-0.049707</td>\n",
              "      <td>-0.140266</td>\n",
              "      <td>-0.028741</td>\n",
              "      <td>-0.035391</td>\n",
              "      <td>-0.042955</td>\n",
              "      <td>-0.013282</td>\n",
              "      <td>-0.006754</td>\n",
              "      <td>-0.148916</td>\n",
              "      <td>-0.151494</td>\n",
              "      <td>-0.146513</td>\n",
              "      <td>0.887058</td>\n",
              "      <td>0.884557</td>\n",
              "      <td>-0.139721</td>\n",
              "      <td>-0.148905</td>\n",
              "      <td>-0.080147</td>\n",
              "      <td>-0.155653</td>\n",
              "      <td>-0.010763</td>\n",
              "      <td>-0.012107</td>\n",
              "      <td>-0.139723</td>\n",
              "      <td>-0.148901</td>\n",
              "      <td>-0.080147</td>\n",
              "      <td>-0.155653</td>\n",
              "      <td>-0.010669</td>\n",
              "      <td>-0.012005</td>\n",
              "      <td>-0.024669</td>\n",
              "      <td>-0.031272</td>\n",
              "      <td>-0.023045</td>\n",
              "      <td>-0.026215</td>\n",
              "      <td>0.001428</td>\n",
              "      <td>0.001483</td>\n",
              "      <td>-0.227215</td>\n",
              "      <td>...</td>\n",
              "      <td>-0.232553</td>\n",
              "      <td>-0.467503</td>\n",
              "      <td>0.048767</td>\n",
              "      <td>0.052956</td>\n",
              "      <td>-0.039114</td>\n",
              "      <td>-0.172877</td>\n",
              "      <td>-0.163113</td>\n",
              "      <td>-0.160909</td>\n",
              "      <td>-1.316342</td>\n",
              "      <td>-1.315388</td>\n",
              "      <td>-0.039109</td>\n",
              "      <td>-0.172866</td>\n",
              "      <td>-0.163101</td>\n",
              "      <td>-0.160903</td>\n",
              "      <td>-1.316333</td>\n",
              "      <td>-1.315375</td>\n",
              "      <td>-0.017032</td>\n",
              "      <td>-0.030026</td>\n",
              "      <td>-0.01764</td>\n",
              "      <td>-0.015071</td>\n",
              "      <td>-0.140763</td>\n",
              "      <td>-0.140335</td>\n",
              "      <td>-0.095403</td>\n",
              "      <td>-0.264408</td>\n",
              "      <td>-0.250557</td>\n",
              "      <td>-0.263736</td>\n",
              "      <td>-1.471764</td>\n",
              "      <td>-1.470277</td>\n",
              "      <td>-0.059013</td>\n",
              "      <td>-0.262405</td>\n",
              "      <td>-0.255149</td>\n",
              "      <td>-0.259232</td>\n",
              "      <td>-1.499972</td>\n",
              "      <td>-1.498585</td>\n",
              "      <td>-0.293841</td>\n",
              "      <td>-0.711861</td>\n",
              "      <td>-0.633648</td>\n",
              "      <td>-0.676279</td>\n",
              "      <td>-1.084907</td>\n",
              "      <td>-1.084845</td>\n",
              "    </tr>\n",
              "    <tr>\n",
              "      <th>11</th>\n",
              "      <td>-0.151357</td>\n",
              "      <td>-0.184668</td>\n",
              "      <td>-1.201369</td>\n",
              "      <td>-0.121970</td>\n",
              "      <td>-0.043875</td>\n",
              "      <td>-0.113002</td>\n",
              "      <td>-0.061584</td>\n",
              "      <td>-0.141519</td>\n",
              "      <td>-0.147643</td>\n",
              "      <td>-0.049707</td>\n",
              "      <td>-0.143847</td>\n",
              "      <td>-0.028741</td>\n",
              "      <td>-0.035391</td>\n",
              "      <td>-0.042955</td>\n",
              "      <td>-0.013282</td>\n",
              "      <td>-0.038424</td>\n",
              "      <td>-0.150266</td>\n",
              "      <td>-0.150457</td>\n",
              "      <td>-0.150661</td>\n",
              "      <td>0.887058</td>\n",
              "      <td>0.884557</td>\n",
              "      <td>-0.139722</td>\n",
              "      <td>-0.148906</td>\n",
              "      <td>-0.080147</td>\n",
              "      <td>-0.155654</td>\n",
              "      <td>-0.010763</td>\n",
              "      <td>-0.012107</td>\n",
              "      <td>-0.139724</td>\n",
              "      <td>-0.148902</td>\n",
              "      <td>-0.080147</td>\n",
              "      <td>-0.155654</td>\n",
              "      <td>-0.010669</td>\n",
              "      <td>-0.012005</td>\n",
              "      <td>-0.024669</td>\n",
              "      <td>-0.031272</td>\n",
              "      <td>-0.023045</td>\n",
              "      <td>-0.026215</td>\n",
              "      <td>0.001428</td>\n",
              "      <td>0.001483</td>\n",
              "      <td>-0.227215</td>\n",
              "      <td>...</td>\n",
              "      <td>-0.232553</td>\n",
              "      <td>-0.467551</td>\n",
              "      <td>0.048767</td>\n",
              "      <td>0.052956</td>\n",
              "      <td>-0.039116</td>\n",
              "      <td>-0.172877</td>\n",
              "      <td>-0.163112</td>\n",
              "      <td>-0.160910</td>\n",
              "      <td>-1.316342</td>\n",
              "      <td>-1.315388</td>\n",
              "      <td>-0.039111</td>\n",
              "      <td>-0.172866</td>\n",
              "      <td>-0.163101</td>\n",
              "      <td>-0.160903</td>\n",
              "      <td>-1.316333</td>\n",
              "      <td>-1.315375</td>\n",
              "      <td>-0.017032</td>\n",
              "      <td>-0.030026</td>\n",
              "      <td>-0.01764</td>\n",
              "      <td>-0.015071</td>\n",
              "      <td>-2.428426</td>\n",
              "      <td>-2.429065</td>\n",
              "      <td>-0.095403</td>\n",
              "      <td>-0.263830</td>\n",
              "      <td>-0.249961</td>\n",
              "      <td>-0.263152</td>\n",
              "      <td>-1.471764</td>\n",
              "      <td>-1.470277</td>\n",
              "      <td>-0.059013</td>\n",
              "      <td>-0.262097</td>\n",
              "      <td>-0.254833</td>\n",
              "      <td>-0.258919</td>\n",
              "      <td>-1.499972</td>\n",
              "      <td>-1.498585</td>\n",
              "      <td>-0.293754</td>\n",
              "      <td>-0.415344</td>\n",
              "      <td>-0.275094</td>\n",
              "      <td>-0.411789</td>\n",
              "      <td>-1.084907</td>\n",
              "      <td>-1.084845</td>\n",
              "    </tr>\n",
              "    <tr>\n",
              "      <th>16</th>\n",
              "      <td>-0.172306</td>\n",
              "      <td>-0.184668</td>\n",
              "      <td>-1.201369</td>\n",
              "      <td>0.028105</td>\n",
              "      <td>-0.043875</td>\n",
              "      <td>-0.029140</td>\n",
              "      <td>0.242712</td>\n",
              "      <td>-0.163640</td>\n",
              "      <td>-0.169115</td>\n",
              "      <td>-0.047227</td>\n",
              "      <td>-0.165719</td>\n",
              "      <td>-2.222844</td>\n",
              "      <td>-2.486106</td>\n",
              "      <td>-0.042955</td>\n",
              "      <td>-0.013282</td>\n",
              "      <td>-0.057321</td>\n",
              "      <td>-0.170460</td>\n",
              "      <td>-0.172121</td>\n",
              "      <td>-0.175463</td>\n",
              "      <td>-1.373657</td>\n",
              "      <td>-1.371460</td>\n",
              "      <td>-0.139732</td>\n",
              "      <td>-0.148846</td>\n",
              "      <td>-0.080069</td>\n",
              "      <td>-0.155603</td>\n",
              "      <td>-2.340501</td>\n",
              "      <td>-2.330877</td>\n",
              "      <td>-0.139734</td>\n",
              "      <td>-0.148841</td>\n",
              "      <td>-0.080069</td>\n",
              "      <td>-0.155603</td>\n",
              "      <td>-2.340378</td>\n",
              "      <td>-2.330626</td>\n",
              "      <td>-0.024669</td>\n",
              "      <td>-0.031272</td>\n",
              "      <td>-0.023045</td>\n",
              "      <td>-0.026215</td>\n",
              "      <td>0.001428</td>\n",
              "      <td>0.001483</td>\n",
              "      <td>-0.227215</td>\n",
              "      <td>...</td>\n",
              "      <td>5.899000</td>\n",
              "      <td>2.030537</td>\n",
              "      <td>-2.454649</td>\n",
              "      <td>-2.444997</td>\n",
              "      <td>-0.039151</td>\n",
              "      <td>-0.172895</td>\n",
              "      <td>-0.163126</td>\n",
              "      <td>-0.160933</td>\n",
              "      <td>-1.316342</td>\n",
              "      <td>-1.315388</td>\n",
              "      <td>-0.039146</td>\n",
              "      <td>-0.172884</td>\n",
              "      <td>-0.163114</td>\n",
              "      <td>-0.160926</td>\n",
              "      <td>-1.316333</td>\n",
              "      <td>-1.315375</td>\n",
              "      <td>-0.017032</td>\n",
              "      <td>-0.030026</td>\n",
              "      <td>-0.01764</td>\n",
              "      <td>-0.015071</td>\n",
              "      <td>-0.140763</td>\n",
              "      <td>-0.140335</td>\n",
              "      <td>-0.095403</td>\n",
              "      <td>-0.264425</td>\n",
              "      <td>-0.250574</td>\n",
              "      <td>-0.263753</td>\n",
              "      <td>-0.169119</td>\n",
              "      <td>-0.167165</td>\n",
              "      <td>-0.059013</td>\n",
              "      <td>-0.262424</td>\n",
              "      <td>-0.255168</td>\n",
              "      <td>-0.259251</td>\n",
              "      <td>-0.187191</td>\n",
              "      <td>-0.185274</td>\n",
              "      <td>-0.293519</td>\n",
              "      <td>-0.761259</td>\n",
              "      <td>-0.693529</td>\n",
              "      <td>-0.720231</td>\n",
              "      <td>1.135523</td>\n",
              "      <td>1.135279</td>\n",
              "    </tr>\n",
              "  </tbody>\n",
              "</table>\n",
              "<p>5 rows × 93 columns</p>\n",
              "</div>"
            ],
            "text/plain": [
              "    local_feature_1  local_feature_2  ...  local_feature_92  local_feature_93\n",
              "3          0.163054         1.963790  ...          0.025308          0.025217\n",
              "9         -0.005027         0.578941  ...          0.025308          0.025217\n",
              "10        -0.147852        -0.184668  ...         -1.084907         -1.084845\n",
              "11        -0.151357        -0.184668  ...         -1.084907         -1.084845\n",
              "16        -0.172306        -0.184668  ...          1.135523          1.135279\n",
              "\n",
              "[5 rows x 93 columns]"
            ]
          },
          "metadata": {
            "tags": []
          },
          "execution_count": 28
        }
      ]
    },
    {
      "cell_type": "code",
      "metadata": {
        "colab": {
          "base_uri": "https://localhost:8080/"
        },
        "id": "fPtlw_bZ6Psv",
        "outputId": "a6610c29-3d5e-4550-9a36-4a364d5dad04"
      },
      "source": [
        "X_LF.shape"
      ],
      "execution_count": 29,
      "outputs": [
        {
          "output_type": "execute_result",
          "data": {
            "text/plain": [
              "(46564, 93)"
            ]
          },
          "metadata": {
            "tags": []
          },
          "execution_count": 29
        }
      ]
    },
    {
      "cell_type": "code",
      "metadata": {
        "id": "w1QicCfB3XpQ"
      },
      "source": [
        "X_train, X_test, y_train, y_test = train_test_split(X, y, test_size=0.30, random_state=33)\n",
        "X_LF_train, X_LF_test, y_train, y_test = train_test_split(X_LF, y, test_size=0.30, random_state=33)"
      ],
      "execution_count": 30,
      "outputs": []
    },
    {
      "cell_type": "code",
      "metadata": {
        "id": "Taxo4v8R97Zq"
      },
      "source": [
        "train_size = int(len(X) * 0.70)\n",
        "X_train,X_test = X[0:train_size], X[train_size:len(X)]\n",
        "X_LF_train,X_LF_test = X_LF[0:train_size], X_LF[train_size:len(X_LF)]\n",
        "y_train, y_test = y[0:train_size], y[train_size:len(X)]"
      ],
      "execution_count": 31,
      "outputs": []
    },
    {
      "cell_type": "code",
      "metadata": {
        "id": "etLZnkbKIvfo"
      },
      "source": [
        ""
      ],
      "execution_count": 31,
      "outputs": []
    },
    {
      "cell_type": "code",
      "metadata": {
        "colab": {
          "base_uri": "https://localhost:8080/"
        },
        "id": "GtzFXZxRBFOn",
        "outputId": "20dcb0f3-cd05-4438-e6b0-3eba8f4e5c11"
      },
      "source": [
        "len(y_train)"
      ],
      "execution_count": 32,
      "outputs": [
        {
          "output_type": "execute_result",
          "data": {
            "text/plain": [
              "32594"
            ]
          },
          "metadata": {
            "tags": []
          },
          "execution_count": 32
        }
      ]
    },
    {
      "cell_type": "code",
      "metadata": {
        "colab": {
          "base_uri": "https://localhost:8080/"
        },
        "id": "XUxL2uDiBKCQ",
        "outputId": "f98b3b7a-3205-4077-ac26-5e3b50eb24e5"
      },
      "source": [
        "len(y_test)"
      ],
      "execution_count": 33,
      "outputs": [
        {
          "output_type": "execute_result",
          "data": {
            "text/plain": [
              "13970"
            ]
          },
          "metadata": {
            "tags": []
          },
          "execution_count": 33
        }
      ]
    },
    {
      "cell_type": "code",
      "metadata": {
        "colab": {
          "base_uri": "https://localhost:8080/"
        },
        "id": "wet0OcL0BL8T",
        "outputId": "fb9003aa-b71a-4f82-b98b-7c214a39c45d"
      },
      "source": [
        "print(y_train.sum())\n",
        "print(y_test.sum())"
      ],
      "execution_count": 34,
      "outputs": [
        {
          "output_type": "stream",
          "text": [
            "3666\n",
            "879\n"
          ],
          "name": "stdout"
        }
      ]
    },
    {
      "cell_type": "code",
      "metadata": {
        "id": "amlg3ov03ajX"
      },
      "source": [
        "sc = StandardScaler()\n",
        "X_train_sc = sc.fit_transform(X_train)\n",
        "X_test_sc = sc.transform(X_test)\n",
        "X_LF_train_sc = sc.fit_transform(X_LF_train)\n",
        "X_LF_test_sc = sc.transform(X_LF_test)"
      ],
      "execution_count": 35,
      "outputs": []
    },
    {
      "cell_type": "markdown",
      "metadata": {
        "id": "y1Qp6PyW6nDy"
      },
      "source": [
        "<H3> Logistic Regression with Local Features - Base Model </H3>"
      ]
    },
    {
      "cell_type": "code",
      "metadata": {
        "id": "xRWEAURK6ubo"
      },
      "source": [
        "logreg = LogisticRegression(max_iter=1000)\n",
        "logreg.fit(X_LF_train_sc, y_train.values)\n",
        "y_preds = logreg.predict(X_LF_test_sc)"
      ],
      "execution_count": 36,
      "outputs": []
    },
    {
      "cell_type": "code",
      "metadata": {
        "colab": {
          "base_uri": "https://localhost:8080/",
          "height": 279
        },
        "id": "o9jmlbCQ6uO5",
        "outputId": "f55ee7a3-7b25-43c1-e251-5833dc457971"
      },
      "source": [
        "cm = confusion_matrix(y_test.values, y_preds)\n",
        "disp = ConfusionMatrixDisplay(confusion_matrix=cm, display_labels=['Licit', 'Illicit'])\n",
        "disp.plot(cmap='RdPu');"
      ],
      "execution_count": 37,
      "outputs": [
        {
          "output_type": "display_data",
          "data": {
            "image/png": "[encoded data removed]",
            "text/plain": [
              "<Figure size 432x288 with 2 Axes>"
            ]
          },
          "metadata": {
            "tags": [],
            "needs_background": "light"
          }
        }
      ]
    },
    {
      "cell_type": "code",
      "metadata": {
        "colab": {
          "base_uri": "https://localhost:8080/"
        },
        "id": "4X_0bbFa6uE7",
        "outputId": "90174e1b-47c4-4a93-99c7-dd88497290c4"
      },
      "source": [
        "print(classification_report(y_test.values, y_preds))"
      ],
      "execution_count": 38,
      "outputs": [
        {
          "output_type": "stream",
          "text": [
            "              precision    recall  f1-score   support\n",
            "\n",
            "           0       0.98      0.96      0.97     13091\n",
            "           1       0.49      0.64      0.56       879\n",
            "\n",
            "    accuracy                           0.94     13970\n",
            "   macro avg       0.73      0.80      0.76     13970\n",
            "weighted avg       0.95      0.94      0.94     13970\n",
            "\n"
          ],
          "name": "stdout"
        }
      ]
    },
    {
      "cell_type": "markdown",
      "metadata": {
        "id": "KvjZE7AYc_S6"
      },
      "source": [
        "<H3> Logistic Regression - All Features <H3>"
      ]
    },
    {
      "cell_type": "code",
      "metadata": {
        "id": "Nvg4cpQtev5W"
      },
      "source": [
        "logreg = LogisticRegression(max_iter=1000)\n",
        "logreg.fit(X_train_sc, y_train.values)\n",
        "y_preds = logreg.predict(X_test_sc)"
      ],
      "execution_count": 39,
      "outputs": []
    },
    {
      "cell_type": "code",
      "metadata": {
        "colab": {
          "base_uri": "https://localhost:8080/",
          "height": 279
        },
        "id": "biHHs4nUevvM",
        "outputId": "5818e6d8-ca45-4f0b-ff9a-5008f694726a"
      },
      "source": [
        "cm = confusion_matrix(y_test.values, y_preds)\n",
        "disp = ConfusionMatrixDisplay(confusion_matrix=cm, display_labels=['Licit', 'Illicit'])\n",
        "disp.plot(cmap='RdPu');"
      ],
      "execution_count": 40,
      "outputs": [
        {
          "output_type": "display_data",
          "data": {
            "image/png": "[encoded data removed]",
            "text/plain": [
              "<Figure size 432x288 with 2 Axes>"
            ]
          },
          "metadata": {
            "tags": [],
            "needs_background": "light"
          }
        }
      ]
    },
    {
      "cell_type": "code",
      "metadata": {
        "colab": {
          "base_uri": "https://localhost:8080/"
        },
        "id": "WuHYQpqKevmr",
        "outputId": "681e9c1d-cfb7-444d-8e80-1d8754505167"
      },
      "source": [
        "print(classification_report(y_test.values, y_preds))"
      ],
      "execution_count": 41,
      "outputs": [
        {
          "output_type": "stream",
          "text": [
            "              precision    recall  f1-score   support\n",
            "\n",
            "           0       0.97      0.94      0.96     13091\n",
            "           1       0.40      0.59      0.48       879\n",
            "\n",
            "    accuracy                           0.92     13970\n",
            "   macro avg       0.69      0.77      0.72     13970\n",
            "weighted avg       0.94      0.92      0.93     13970\n",
            "\n"
          ],
          "name": "stdout"
        }
      ]
    },
    {
      "cell_type": "markdown",
      "metadata": {
        "id": "tjGR0AOx7m0b"
      },
      "source": [
        "<H3> Randomforest Classifier with Local features <H3>"
      ]
    },
    {
      "cell_type": "code",
      "metadata": {
        "id": "lsI4PsaW7m0c"
      },
      "source": [
        "rf = RandomForestClassifier(n_estimators=200, class_weight='balanced')\n",
        "rf.fit(X_LF_train_sc, y_train)\n",
        "y_preds = rf.predict(X_LF_test_sc)"
      ],
      "execution_count": 42,
      "outputs": []
    },
    {
      "cell_type": "code",
      "metadata": {
        "colab": {
          "base_uri": "https://localhost:8080/",
          "height": 279
        },
        "id": "y0zkjktp7m0c",
        "outputId": "77d52520-b03f-42db-a497-8707dbaa4e36"
      },
      "source": [
        "cm = confusion_matrix(y_test.values, y_preds)\n",
        "disp = ConfusionMatrixDisplay(confusion_matrix=cm, display_labels=['Licit', 'Illicit'])\n",
        "disp.plot(cmap='RdPu');"
      ],
      "execution_count": 43,
      "outputs": [
        {
          "output_type": "display_data",
          "data": {
            "image/png": "[encoded data removed]",
            "text/plain": [
              "<Figure size 432x288 with 2 Axes>"
            ]
          },
          "metadata": {
            "tags": [],
            "needs_background": "light"
          }
        }
      ]
    },
    {
      "cell_type": "code",
      "metadata": {
        "colab": {
          "base_uri": "https://localhost:8080/"
        },
        "id": "MNrzflf07m0c",
        "outputId": "20c5a28a-d292-4e23-8e5d-adb4754096e6"
      },
      "source": [
        "print(classification_report(y_test.values, y_preds))"
      ],
      "execution_count": 44,
      "outputs": [
        {
          "output_type": "stream",
          "text": [
            "              precision    recall  f1-score   support\n",
            "\n",
            "           0       0.97      1.00      0.99     13091\n",
            "           1       0.97      0.62      0.75       879\n",
            "\n",
            "    accuracy                           0.97     13970\n",
            "   macro avg       0.97      0.81      0.87     13970\n",
            "weighted avg       0.97      0.97      0.97     13970\n",
            "\n"
          ],
          "name": "stdout"
        }
      ]
    },
    {
      "cell_type": "markdown",
      "metadata": {
        "id": "tJ4RaK8TjCnK"
      },
      "source": [
        "<H3> Randomforest Classifier - All Features <H3>"
      ]
    },
    {
      "cell_type": "code",
      "metadata": {
        "id": "TI09wSEYjAbo"
      },
      "source": [
        "rf = RandomForestClassifier(n_estimators=200, class_weight='balanced')\n",
        "rf.fit(X_train_sc, y_train)\n",
        "y_preds = rf.predict(X_test_sc)"
      ],
      "execution_count": 45,
      "outputs": []
    },
    {
      "cell_type": "code",
      "metadata": {
        "colab": {
          "base_uri": "https://localhost:8080/",
          "height": 279
        },
        "id": "yQZ_Lb6BjAYJ",
        "outputId": "bb06a0dc-a0f9-44a1-b9c0-fedd7c47400e"
      },
      "source": [
        "cm = confusion_matrix(y_test.values, y_preds)\n",
        "disp = ConfusionMatrixDisplay(confusion_matrix=cm, display_labels=['Licit', 'Illicit'])\n",
        "disp.plot(cmap='RdPu');"
      ],
      "execution_count": 46,
      "outputs": [
        {
          "output_type": "display_data",
          "data": {
            "image/png": "[encoded data removed]",
            "text/plain": [
              "<Figure size 432x288 with 2 Axes>"
            ]
          },
          "metadata": {
            "tags": [],
            "needs_background": "light"
          }
        }
      ]
    },
    {
      "cell_type": "code",
      "metadata": {
        "colab": {
          "base_uri": "https://localhost:8080/"
        },
        "id": "slBHcS2ljAUZ",
        "outputId": "56152fa9-ca29-43cf-a9f6-e39e4d1a11ab"
      },
      "source": [
        "print(classification_report(y_test.values, y_preds))"
      ],
      "execution_count": 47,
      "outputs": [
        {
          "output_type": "stream",
          "text": [
            "              precision    recall  f1-score   support\n",
            "\n",
            "           0       0.97      1.00      0.99     13091\n",
            "           1       0.99      0.57      0.72       879\n",
            "\n",
            "    accuracy                           0.97     13970\n",
            "   macro avg       0.98      0.79      0.85     13970\n",
            "weighted avg       0.97      0.97      0.97     13970\n",
            "\n"
          ],
          "name": "stdout"
        }
      ]
    },
    {
      "cell_type": "markdown",
      "metadata": {
        "id": "c_6lfoPqoD01"
      },
      "source": [
        "<H3> Feed Forward Neural Network <H3>"
      ]
    },
    {
      "cell_type": "code",
      "metadata": {
        "id": "OuDp4ziVoD03"
      },
      "source": [
        "n_shape = X_train.shape[1]\n",
        "model = Sequential()\n",
        "model.add(Dense(128,\n",
        "                input_shape=(n_shape,),\n",
        "                activation='relu'))\n",
        "model.add(Dense(64, activation='relu', kernel_regularizer=l2(1e-3)))\n",
        "model.add(Dense(32, activation='relu', kernel_regularizer=l2(1e-3)))\n",
        "model.add(Dense(32, activation='relu', kernel_regularizer=l2(1e-3)))\n",
        "model.add(Dense(16, activation='relu', kernel_regularizer=l2(1e-3)))\n",
        "model.add(Dense(16, activation='relu', kernel_regularizer=l2(1e-3)))\n",
        "model.add(Dense(1, activation='sigmoid'))"
      ],
      "execution_count": 48,
      "outputs": []
    },
    {
      "cell_type": "code",
      "metadata": {
        "colab": {
          "base_uri": "https://localhost:8080/"
        },
        "id": "qg_VAwdHoD03",
        "outputId": "80070ecd-be13-413e-8990-7ba245a8a4c3"
      },
      "source": [
        "model.summary()"
      ],
      "execution_count": 49,
      "outputs": [
        {
          "output_type": "stream",
          "text": [
            "Model: \"sequential\"\n",
            "_________________________________________________________________\n",
            "Layer (type)                 Output Shape              Param #   \n",
            "=================================================================\n",
            "dense (Dense)                (None, 128)               21248     \n",
            "_________________________________________________________________\n",
            "dense_1 (Dense)              (None, 64)                8256      \n",
            "_________________________________________________________________\n",
            "dense_2 (Dense)              (None, 32)                2080      \n",
            "_________________________________________________________________\n",
            "dense_3 (Dense)              (None, 32)                1056      \n",
            "_________________________________________________________________\n",
            "dense_4 (Dense)              (None, 16)                528       \n",
            "_________________________________________________________________\n",
            "dense_5 (Dense)              (None, 16)                272       \n",
            "_________________________________________________________________\n",
            "dense_6 (Dense)              (None, 1)                 17        \n",
            "=================================================================\n",
            "Total params: 33,457\n",
            "Trainable params: 33,457\n",
            "Non-trainable params: 0\n",
            "_________________________________________________________________\n"
          ],
          "name": "stdout"
        }
      ]
    },
    {
      "cell_type": "code",
      "metadata": {
        "id": "Z-UkjFc8oD04"
      },
      "source": [
        "model.compile(loss='mse', optimizer='adam', metrics=['mae', 'acc'])"
      ],
      "execution_count": 50,
      "outputs": []
    },
    {
      "cell_type": "code",
      "metadata": {
        "id": "f25QaOSuoD04"
      },
      "source": [
        "early_stop = EarlyStopping(monitor='val_loss', min_delta=0, patience=10, verbose=1, mode='auto')"
      ],
      "execution_count": 51,
      "outputs": []
    },
    {
      "cell_type": "code",
      "metadata": {
        "colab": {
          "base_uri": "https://localhost:8080/"
        },
        "id": "uL4NVkrpoD04",
        "outputId": "83c1c936-bfbf-46c5-a090-0ad1236e9bce"
      },
      "source": [
        "history = model.fit(\n",
        "    X_train, \n",
        "    y_train,\n",
        "    validation_data=(X_test, y_test),\n",
        "    epochs=200,\n",
        "    batch_size=None,\n",
        "    callbacks=[early_stop])"
      ],
      "execution_count": 52,
      "outputs": [
        {
          "output_type": "stream",
          "text": [
            "Epoch 1/200\n",
            "1019/1019 [==============================] - 4s 3ms/step - loss: 0.1330 - mae: 0.1066 - acc: 0.9361 - val_loss: 0.0447 - val_mae: 0.0666 - val_acc: 0.9676\n",
            "Epoch 2/200\n",
            "1019/1019 [==============================] - 2s 2ms/step - loss: 0.0314 - mae: 0.0446 - acc: 0.9776 - val_loss: 0.0395 - val_mae: 0.0548 - val_acc: 0.9679\n",
            "Epoch 3/200\n",
            "1019/1019 [==============================] - 3s 2ms/step - loss: 0.0272 - mae: 0.0421 - acc: 0.9787 - val_loss: 0.0354 - val_mae: 0.0520 - val_acc: 0.9703\n",
            "Epoch 4/200\n",
            "1019/1019 [==============================] - 2s 2ms/step - loss: 0.0232 - mae: 0.0386 - acc: 0.9816 - val_loss: 0.0381 - val_mae: 0.0605 - val_acc: 0.9639\n",
            "Epoch 5/200\n",
            "1019/1019 [==============================] - 2s 2ms/step - loss: 0.0225 - mae: 0.0372 - acc: 0.9819 - val_loss: 0.0334 - val_mae: 0.0481 - val_acc: 0.9694\n",
            "Epoch 6/200\n",
            "1019/1019 [==============================] - 2s 2ms/step - loss: 0.0219 - mae: 0.0354 - acc: 0.9820 - val_loss: 0.0350 - val_mae: 0.0457 - val_acc: 0.9675\n",
            "Epoch 7/200\n",
            "1019/1019 [==============================] - 2s 2ms/step - loss: 0.0199 - mae: 0.0320 - acc: 0.9838 - val_loss: 0.0321 - val_mae: 0.0408 - val_acc: 0.9711\n",
            "Epoch 8/200\n",
            "1019/1019 [==============================] - 2s 2ms/step - loss: 0.0185 - mae: 0.0299 - acc: 0.9852 - val_loss: 0.0336 - val_mae: 0.0452 - val_acc: 0.9689\n",
            "Epoch 9/200\n",
            "1019/1019 [==============================] - 2s 2ms/step - loss: 0.0184 - mae: 0.0303 - acc: 0.9845 - val_loss: 0.0336 - val_mae: 0.0472 - val_acc: 0.9682\n",
            "Epoch 10/200\n",
            "1019/1019 [==============================] - 2s 2ms/step - loss: 0.0172 - mae: 0.0275 - acc: 0.9855 - val_loss: 0.0336 - val_mae: 0.0431 - val_acc: 0.9679\n",
            "Epoch 11/200\n",
            "1019/1019 [==============================] - 2s 2ms/step - loss: 0.0175 - mae: 0.0283 - acc: 0.9864 - val_loss: 0.0336 - val_mae: 0.0466 - val_acc: 0.9676\n",
            "Epoch 12/200\n",
            "1019/1019 [==============================] - 2s 2ms/step - loss: 0.0172 - mae: 0.0277 - acc: 0.9856 - val_loss: 0.0320 - val_mae: 0.0423 - val_acc: 0.9702\n",
            "Epoch 13/200\n",
            "1019/1019 [==============================] - 2s 2ms/step - loss: 0.0174 - mae: 0.0286 - acc: 0.9855 - val_loss: 0.0315 - val_mae: 0.0382 - val_acc: 0.9707\n",
            "Epoch 14/200\n",
            "1019/1019 [==============================] - 2s 2ms/step - loss: 0.0159 - mae: 0.0254 - acc: 0.9873 - val_loss: 0.0328 - val_mae: 0.0438 - val_acc: 0.9686\n",
            "Epoch 15/200\n",
            "1019/1019 [==============================] - 2s 2ms/step - loss: 0.0170 - mae: 0.0281 - acc: 0.9852 - val_loss: 0.0309 - val_mae: 0.0356 - val_acc: 0.9712\n",
            "Epoch 16/200\n",
            "1019/1019 [==============================] - 2s 2ms/step - loss: 0.0162 - mae: 0.0255 - acc: 0.9868 - val_loss: 0.0329 - val_mae: 0.0381 - val_acc: 0.9690\n",
            "Epoch 17/200\n",
            "1019/1019 [==============================] - 2s 2ms/step - loss: 0.0146 - mae: 0.0219 - acc: 0.9889 - val_loss: 0.0324 - val_mae: 0.0382 - val_acc: 0.9689\n",
            "Epoch 18/200\n",
            "1019/1019 [==============================] - 3s 2ms/step - loss: 0.0143 - mae: 0.0222 - acc: 0.9891 - val_loss: 0.0308 - val_mae: 0.0351 - val_acc: 0.9715\n",
            "Epoch 19/200\n",
            "1019/1019 [==============================] - 2s 2ms/step - loss: 0.0147 - mae: 0.0228 - acc: 0.9878 - val_loss: 0.0309 - val_mae: 0.0343 - val_acc: 0.9717\n",
            "Epoch 20/200\n",
            "1019/1019 [==============================] - 2s 2ms/step - loss: 0.0121 - mae: 0.0187 - acc: 0.9912 - val_loss: 0.0343 - val_mae: 0.0418 - val_acc: 0.9659\n",
            "Epoch 21/200\n",
            "1019/1019 [==============================] - 2s 2ms/step - loss: 0.0131 - mae: 0.0199 - acc: 0.9900 - val_loss: 0.0311 - val_mae: 0.0353 - val_acc: 0.9710\n",
            "Epoch 22/200\n",
            "1019/1019 [==============================] - 2s 2ms/step - loss: 0.0132 - mae: 0.0203 - acc: 0.9893 - val_loss: 0.0329 - val_mae: 0.0375 - val_acc: 0.9679\n",
            "Epoch 23/200\n",
            "1019/1019 [==============================] - 3s 2ms/step - loss: 0.0136 - mae: 0.0200 - acc: 0.9894 - val_loss: 0.0315 - val_mae: 0.0360 - val_acc: 0.9702\n",
            "Epoch 24/200\n",
            "1019/1019 [==============================] - 3s 3ms/step - loss: 0.0124 - mae: 0.0183 - acc: 0.9908 - val_loss: 0.0315 - val_mae: 0.0356 - val_acc: 0.9697\n",
            "Epoch 25/200\n",
            "1019/1019 [==============================] - 2s 2ms/step - loss: 0.0117 - mae: 0.0171 - acc: 0.9916 - val_loss: 0.0327 - val_mae: 0.0380 - val_acc: 0.9684\n",
            "Epoch 26/200\n",
            "1019/1019 [==============================] - 2s 2ms/step - loss: 0.0118 - mae: 0.0176 - acc: 0.9917 - val_loss: 0.0329 - val_mae: 0.0363 - val_acc: 0.9685\n",
            "Epoch 27/200\n",
            "1019/1019 [==============================] - 3s 2ms/step - loss: 0.0120 - mae: 0.0176 - acc: 0.9905 - val_loss: 0.0320 - val_mae: 0.0366 - val_acc: 0.9694\n",
            "Epoch 28/200\n",
            "1019/1019 [==============================] - 3s 2ms/step - loss: 0.0110 - mae: 0.0160 - acc: 0.9922 - val_loss: 0.0337 - val_mae: 0.0384 - val_acc: 0.9674\n",
            "Epoch 00028: early stopping\n"
          ],
          "name": "stdout"
        }
      ]
    },
    {
      "cell_type": "code",
      "metadata": {
        "colab": {
          "base_uri": "https://localhost:8080/",
          "height": 265
        },
        "id": "Vj4E6desoD04",
        "outputId": "2a4e264f-9b59-4272-fc5d-18df8c6480fa"
      },
      "source": [
        "plt.plot(history.history['loss'], label='Train loss')\n",
        "plt.plot(history.history['val_loss'], label='Val Loss')\n",
        "plt.legend();"
      ],
      "execution_count": 53,
      "outputs": [
        {
          "output_type": "display_data",
          "data": {
            "image/png": "[encoded data removed]",
            "text/plain": [
              "<Figure size 432x288 with 1 Axes>"
            ]
          },
          "metadata": {
            "tags": [],
            "needs_background": "light"
          }
        }
      ]
    },
    {
      "cell_type": "code",
      "metadata": {
        "id": "JPM5hZQCoD04"
      },
      "source": [
        "y_preds = model.predict(X_test)"
      ],
      "execution_count": 54,
      "outputs": []
    },
    {
      "cell_type": "code",
      "metadata": {
        "id": "R6vKm7RHoD04"
      },
      "source": [
        "y_preds = y_preds.round()"
      ],
      "execution_count": 55,
      "outputs": []
    },
    {
      "cell_type": "code",
      "metadata": {
        "colab": {
          "base_uri": "https://localhost:8080/",
          "height": 279
        },
        "id": "k7e1RlKaoD04",
        "outputId": "86ab2f06-74da-4f58-a7f4-b95e90255e88"
      },
      "source": [
        "cm = confusion_matrix(y_test.values, y_preds)\n",
        "disp = ConfusionMatrixDisplay(confusion_matrix=cm, display_labels=['Licit', 'Illicit'])\n",
        "disp.plot(cmap='RdPu');"
      ],
      "execution_count": 56,
      "outputs": [
        {
          "output_type": "display_data",
          "data": {
            "image/png": "[encoded data removed]",
            "text/plain": [
              "<Figure size 432x288 with 2 Axes>"
            ]
          },
          "metadata": {
            "tags": [],
            "needs_background": "light"
          }
        }
      ]
    },
    {
      "cell_type": "code",
      "metadata": {
        "colab": {
          "base_uri": "https://localhost:8080/"
        },
        "id": "WFoCUX9uoD04",
        "outputId": "eaff9dd1-c9ce-4014-dba8-c2c6e459d6f6"
      },
      "source": [
        "print(classification_report(y_test.values, y_preds))"
      ],
      "execution_count": 57,
      "outputs": [
        {
          "output_type": "stream",
          "text": [
            "              precision    recall  f1-score   support\n",
            "\n",
            "           0       0.98      0.99      0.98     13091\n",
            "           1       0.81      0.63      0.71       879\n",
            "\n",
            "    accuracy                           0.97     13970\n",
            "   macro avg       0.89      0.81      0.85     13970\n",
            "weighted avg       0.97      0.97      0.97     13970\n",
            "\n"
          ],
          "name": "stdout"
        }
      ]
    }
  ]
}